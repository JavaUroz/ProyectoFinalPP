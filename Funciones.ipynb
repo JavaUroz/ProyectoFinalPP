{
 "cells": [
  {
   "cell_type": "code",
   "execution_count": 18,
   "metadata": {},
   "outputs": [],
   "source": [
    "from types import NoneType\n",
    "from typing_extensions import Self\n",
    "import streamlit as st\n",
    "\n",
    "class Vehiculo(object):\n",
    "  def __init__(self):\n",
    "    self.marca = None\n",
    "    self.modelo = None\n",
    "    self.version = None\n",
    "    self.tipo = None\n",
    "    self.motor_combustible = None\n",
    "    self.motor_potencia = None\n",
    "    self.transmision = None    \n",
    "    self.traccion = None\n",
    "\n",
    "  def get_marca(self):\n",
    "      return self.marca\n",
    "\n",
    "  def get_modelo(self):\n",
    "      return self.modelo\n",
    "\n",
    "  def get_version(self):\n",
    "      return self.version\n",
    "\n",
    "  def get_tipo(self):\n",
    "      return self.tipo\n",
    "\n",
    "  def get_combustible(self):\n",
    "      return self.motor_combustible\n",
    "\n",
    "  def get_potencia(self):\n",
    "      return self.motor_potencia\n",
    "\n",
    "  def get_traccion(self):\n",
    "      return self.traccion\n",
    "\n",
    "class Auto_Suv(Vehiculo):\n",
    "    def __init__(self, marca, modelo, version, tipo, combustible, potencia, transmision, traccion):\n",
    "        self.marca = marca\n",
    "        self.modelo = modelo\n",
    "        self.version = version\n",
    "        self.tipo = tipo\n",
    "        self.combustible = combustible\n",
    "        self.potencia = potencia\n",
    "        self.transmision = transmision\n",
    "        self.traccion = traccion\n",
    "\n",
    "class Camioneta(Vehiculo):\n",
    "    def __init__(self, marca, modelo, version, tipo, combustible, potencia, transmision, cabina, traccion):\n",
    "        self.marca = marca\n",
    "        self.modelo = modelo\n",
    "        self.version = version\n",
    "        self.tipo = tipo\n",
    "        self.combustible = combustible\n",
    "        self.potencia = potencia\n",
    "        self.transmision = transmision\n",
    "        self.cabina = cabina\n",
    "        self.traccion = traccion\n",
    "\n",
    "    def get_cabina(self):\n",
    "        return self.cabina\n",
    "\n",
    "class Factoria(object):\n",
    "    def get_vehiculo(self, marca, modelo, version, tipo, combustible, potencia, transmision, cabina, traccion):\n",
    "        if (cabina != ''):\n",
    "            return Camioneta(marca, modelo, version, tipo, combustible, potencia, transmision, cabina, traccion)\n",
    "        else:\n",
    "            return Auto_Suv(marca, modelo, version, tipo, combustible, potencia, transmision, traccion)\n"
   ]
  },
  {
   "cell_type": "code",
   "execution_count": null,
   "metadata": {},
   "outputs": [],
   "source": []
  },
  {
   "cell_type": "code",
   "execution_count": 19,
   "metadata": {},
   "outputs": [
    {
     "name": "stderr",
     "output_type": "stream",
     "text": [
      "<>:32: SyntaxWarning: \"is\" with a literal. Did you mean \"==\"?\n",
      "<>:32: SyntaxWarning: \"is\" with a literal. Did you mean \"==\"?\n",
      "C:\\Users\\Javier Uroz\\AppData\\Local\\Temp\\ipykernel_14368\\2510976926.py:32: SyntaxWarning: \"is\" with a literal. Did you mean \"==\"?\n",
      "  if level_user is 'Novato':\n"
     ]
    }
   ],
   "source": [
    "import streamlit as st\n",
    "\n",
    "# Creamos la función de la matriz de decision para usuarios novatos\n",
    "def matriz_decision_novato(dataframe, potencia, consumo, seguridad):\n",
    "    dataframe['Puntuacion'] = (dataframe['C'] * (1 - consumo) + 10) + (dataframe['P'] * potencia + 10) + \\\n",
    "                                (dataframe['S'] * seguridad)\n",
    "    return dataframe\n",
    "\n",
    "# Creamos la función de la matriz de decision para usuarios expertos\n",
    "def matriz_decision_experto(dataframe, potencia, consumo, seguridad, confort):    \n",
    "    dataframe['Puntuacion'] = (dataframe['C'] * (1 - consumo) + 10) + (dataframe['P'] * potencia + 10) + \\\n",
    "                                (dataframe['S'] * seguridad) + (dataframe['C.1'] * (2 - confort))\n",
    "    return dataframe\n",
    "\n",
    "# Creamos la función que agrega los precios\n",
    "def agrega_tablas(dataframe1, dataframe2):\n",
    "    merge = dataframe1.merge(dataframe2, left_on='Version', right_on='Version')\n",
    "    return merge\n",
    "\n",
    "def explora_auto_SUV(version, data):\n",
    "    vehicle = data[data['Version']==version]\n",
    "    explorer = Auto_Suv(vehicle.Marca, vehicle.Modelo, vehicle.Version, vehicle.TipoVehiculo, vehicle.Combustible, vehicle.Potencia, vehicle.Transmisión, vehicle.Traccion)\n",
    "    return explorer\n",
    "\n",
    "def explora_camioneta(version, data):\n",
    "    vehicle = data[data['Version']==version]\n",
    "    explorer = Camioneta(vehicle.Marca, vehicle.Modelo, vehicle.Version, vehicle.TipoVehiculo, vehicle.Combustible, vehicle.Potencia, vehicle.Transmisión, vehicle.Cabina, vehicle.Traccion)\n",
    "    return explorer\n",
    "\n",
    "# Creamos la función que presenta la interfaz\n",
    "def define_interfaz(level_user, data):\n",
    "    if level_user == 'Novato':\n",
    "        interfaz_novato(data)\n",
    "    else:\n",
    "        interfaz_experto(data)\n",
    "\n",
    "def interfaz_novato(data):\n",
    "    # Opciones de interfaz para usuarios novatos\n",
    "    st.sidebar.caption('Seleccione sus preferencias generales')\n",
    "    select_consumo = st.sidebar.slider('Bajo Consumo', 1, 5)\n",
    "    select_potencia = st.sidebar.slider('Potencia', 1, 5)\n",
    "    select_seguridad = st.sidebar.slider('Seguridad', 1, 5)\n",
    "    # Habilita las opciones de filtrado\n",
    "    with st.expander('Seleccione los criterios de filtrado de su preferencia'):\n",
    "        col1 = st.columns(2)\n",
    "        marca = col1.multiselect('Marca del vehículo', sorted(data['Marca'].unique().tolist()))\n",
    "        if marca == []:\n",
    "            col1.error('Elija al menos una marca de vehículo')\n",
    "        precio_max = col1.slider('Precio en miles de pesos', 0, 10000)\n",
    "    # Aplica las opciones de filtrado\n",
    "    filtrado = data[(data['Marca'].isin(marca)) & (data['Precio'] < precio_max)]\n",
    "    # Aplica la matriz de decisión y la guarda en la variable ponderacion.\n",
    "    ponderacion = matriz_decision_novato(filtrado, select_consumo, select_potencia, select_seguridad)\n",
    "    # Devuelve los resultados de la recomendación ordenados por puntuación descendente.\n",
    "    if marca == [] or precio_max == 0:\n",
    "        st.warning('Elija sus preferencias para ver las recomendaciones')\n",
    "    else:\n",
    "        st.subheader('Listado de vehiculos recomendados')\n",
    "        st._arrow_table(\n",
    "        ponderacion.loc[:, ['Marca', 'Modelo', 'Version', 'Precio', 'Puntuacion']].sort_values(by='Puntuacion', ascending=False))\n",
    "\n",
    "\n",
    "def interfaz_experto(data):\n",
    "    # Opciones de interfaz para usuarios expertos\n",
    "    st.sidebar.caption('Seleccione sus preferencias generales')\n",
    "    select_consumo=st.sidebar.slider('Bajo Consumo', 1, 5)\n",
    "    select_potencia=st.sidebar.slider('Potencia', 1, 5)\n",
    "    select_seguridad=st.sidebar.slider('Seguridad', 1, 5)\n",
    "    select_confort=st.sidebar.slider('Confort', 1, 5)\n",
    "    # Habilita las opciones de filtrado\n",
    "    with st.expander('Seleccione los criterios de filtrado de su preferencia'):\n",
    "        col1, col2=st.columns(2)\n",
    "        marca = col1.multiselect('Marca del vehículo', sorted(data['Marca'].unique().tolist()))\n",
    "        if marca == []:\n",
    "            col1.error('Elija al menos una marca de vehículo')\n",
    "        tipo = col1.multiselect('Tipo de vehículo',sorted(data['TipoVehiculo'].unique().tolist()))\n",
    "        if tipo == []:\n",
    "            col1.error('Elija al menos un tipo de vehículo')\n",
    "        transmision = col2.multiselect('Transmisión',['Manual','Automática'])\n",
    "        if transmision == []:\n",
    "            col2.error('Elija al menos un tipo de transmisón')\n",
    "        combustible = col2.multiselect('Combustible', ['Nafta', 'Diesel', 'Híbrido'])\n",
    "        if combustible == []:\n",
    "            col2.error('Elija al menos un tipo de combustible')\n",
    "        precio_max=st.slider('Precio en miles de pesos', 0, 15000)\n",
    "    # Aplica las opciones de filtrado\n",
    "    filtrado=data[(data['Marca'].isin(marca)) & (data['Precio'] < precio_max) & (data['Transmisión'].isin(transmision)) & (data['TipoVehiculo'].isin(tipo)) & (data['Combustible'].isin(combustible))]\n",
    "    # Aplica la matriz de decisión y la guarda en la variable ponderacion.\n",
    "    ponderacion=matriz_decision_experto(filtrado, select_consumo, select_potencia, select_seguridad, select_confort)\n",
    "    # Devuelve los resultados de la recomendación ordenados por puntuación descendente.\n",
    "    if marca == [] or precio_max == 0:\n",
    "        st.warning('Elija sus preferencias para ver las recomendaciones')\n",
    "    else:\n",
    "        st.subheader('Elige el vehículo que deseas explorar')\n",
    "        vehiculo = st.radio('Versiones', ponderacion.loc[:,'Version'])\n",
    "        if st.button('Explorar'):\n",
    "            if tipo == ['Camioneta']:\n",
    "                explorer = explora_camioneta(vehiculo, data)\n",
    "                col1, col2 = st.columns(2)\n",
    "                col1.subheader('Marca: '+explorer.get_marca().values[0])\n",
    "                col2.subheader('Modelo: '+explorer.get_modelo().values[0])\n",
    "                st.subheader('Versión: '+explorer.get_version().values[0])\n",
    "                col1, col2, col3=st.columns(3)\n",
    "                col1.caption('Combustible: '+explorer.get_combustible().values[0])\n",
    "                col2.caption('Tracción: '+explorer.get_traccion().values[0])\n",
    "                col3.caption('Cabina: '+explorer.get_cabina().values[0])\n",
    "                col1, col2 = st.columns(2)\n",
    "                col1.caption('Tipo: '+explorer.get_tipo().values[0])\n",
    "                col2.caption('Potencia: '+explorer.get_potencia().values[0])\n",
    "            else:\n",
    "                explorer = explora_camioneta(vehiculo, data)\n",
    "                col1, col2 = st.columns(2)\n",
    "                col1.subheader('Marca: '+explorer.get_marca().values[0])\n",
    "                col2.subheader('Modelo: '+explorer.get_modelo().values[0])\n",
    "                st.subheader('Versión: '+explorer.get_version().values[0])\n",
    "                col1, col2, col3=st.columns(3)\n",
    "                col1.caption('Combustible: '+explorer.get_combustible().values[0])\n",
    "                col2.caption('Tracción: '+explorer.get_traccion().values[0])\n",
    "                col1, col2 = st.columns(2)\n",
    "                col1.caption('Tipo: '+explorer.get_tipo().values[0])\n",
    "                col2.caption('Potencia: '+explorer.get_potencia().values[0])\n",
    "\n",
    "\n",
    "\n",
    "\n",
    "\n"
   ]
  },
  {
   "cell_type": "code",
   "execution_count": null,
   "metadata": {},
   "outputs": [],
   "source": []
  },
  {
   "cell_type": "code",
   "execution_count": 5,
   "metadata": {},
   "outputs": [],
   "source": [
    "from importlib.resources import path\n",
    "import streamlit as st\n",
    "import pandas as pd\n",
    "from sqlalchemy import create_engine\n",
    "\n"
   ]
  },
  {
   "cell_type": "code",
   "execution_count": 6,
   "metadata": {},
   "outputs": [],
   "source": [
    "# Definición de los controles de la barra lateral\n",
    "level_user = st.sidebar.selectbox(label='Nivel de usuario', options=['Novato', 'Experto'])"
   ]
  },
  {
   "cell_type": "code",
   "execution_count": 15,
   "metadata": {},
   "outputs": [],
   "source": [
    "# Conexión con SQLAlchemy\n",
    "path = 'Fuentes de datos/'\n",
    "database = 'DSS.db'\n",
    "my_conn=create_engine('sqlite:///'+path+database)\n",
    "\n"
   ]
  },
  {
   "cell_type": "code",
   "execution_count": 8,
   "metadata": {},
   "outputs": [],
   "source": [
    "# Carga los datos de la aplicación\n",
    "vehiculos = pd.read_sql_table('autos',my_conn)\n",
    "precios = pd.read_sql_table('precios',my_conn)\n",
    "criterios = pd.read_sql_table('criterios', my_conn)\n",
    "\n"
   ]
  },
  {
   "cell_type": "code",
   "execution_count": 9,
   "metadata": {},
   "outputs": [],
   "source": [
    "# Fusiona los precios con la base de datos de vehículos.\n",
    "data = agrega_tablas(vehiculos, precios)\n",
    "\n"
   ]
  },
  {
   "cell_type": "code",
   "execution_count": 11,
   "metadata": {},
   "outputs": [
    {
     "data": {
      "text/plain": [
       "DeltaGenerator(_root_container=0, _provided_cursor=None, _parent=None, _block_type=None, _form_data=None)"
      ]
     },
     "execution_count": 11,
     "metadata": {},
     "output_type": "execute_result"
    }
   ],
   "source": [
    "# Definición del panel central\n",
    "st.header('Sistema de apoyo para la elección de vehículos')\n"
   ]
  },
  {
   "cell_type": "code",
   "execution_count": 17,
   "metadata": {},
   "outputs": [
    {
     "ename": "AttributeError",
     "evalue": "'list' object has no attribute 'multiselect'",
     "output_type": "error",
     "traceback": [
      "\u001b[1;31m---------------------------------------------------------------------------\u001b[0m",
      "\u001b[1;31mAttributeError\u001b[0m                            Traceback (most recent call last)",
      "\u001b[1;32mc:\\Users\\Javier Uroz\\source\\repos\\ProyectoFinal_PP02\\ProyectoFinalPP\\ProyectoFinalPP\\Funciones.ipynb Celda 11\u001b[0m in \u001b[0;36m<cell line: 1>\u001b[1;34m()\u001b[0m\n\u001b[1;32m----> <a href='vscode-notebook-cell:/c%3A/Users/Javier%20Uroz/source/repos/ProyectoFinal_PP02/ProyectoFinalPP/ProyectoFinalPP/Funciones.ipynb#X15sZmlsZQ%3D%3D?line=0'>1</a>\u001b[0m define_interfaz(level_user, data)\n",
      "\u001b[1;32mc:\\Users\\Javier Uroz\\source\\repos\\ProyectoFinal_PP02\\ProyectoFinalPP\\ProyectoFinalPP\\Funciones.ipynb Celda 11\u001b[0m in \u001b[0;36mdefine_interfaz\u001b[1;34m(level_user, data)\u001b[0m\n\u001b[0;32m     <a href='vscode-notebook-cell:/c%3A/Users/Javier%20Uroz/source/repos/ProyectoFinal_PP02/ProyectoFinalPP/ProyectoFinalPP/Funciones.ipynb#X15sZmlsZQ%3D%3D?line=30'>31</a>\u001b[0m \u001b[39mdef\u001b[39;00m \u001b[39mdefine_interfaz\u001b[39m(level_user, data):\n\u001b[0;32m     <a href='vscode-notebook-cell:/c%3A/Users/Javier%20Uroz/source/repos/ProyectoFinal_PP02/ProyectoFinalPP/ProyectoFinalPP/Funciones.ipynb#X15sZmlsZQ%3D%3D?line=31'>32</a>\u001b[0m     \u001b[39mif\u001b[39;00m level_user \u001b[39m==\u001b[39m \u001b[39m'\u001b[39m\u001b[39mNovato\u001b[39m\u001b[39m'\u001b[39m:\n\u001b[1;32m---> <a href='vscode-notebook-cell:/c%3A/Users/Javier%20Uroz/source/repos/ProyectoFinal_PP02/ProyectoFinalPP/ProyectoFinalPP/Funciones.ipynb#X15sZmlsZQ%3D%3D?line=32'>33</a>\u001b[0m         interfaz_novato(data)\n\u001b[0;32m     <a href='vscode-notebook-cell:/c%3A/Users/Javier%20Uroz/source/repos/ProyectoFinal_PP02/ProyectoFinalPP/ProyectoFinalPP/Funciones.ipynb#X15sZmlsZQ%3D%3D?line=33'>34</a>\u001b[0m     \u001b[39melse\u001b[39;00m:\n\u001b[0;32m     <a href='vscode-notebook-cell:/c%3A/Users/Javier%20Uroz/source/repos/ProyectoFinal_PP02/ProyectoFinalPP/ProyectoFinalPP/Funciones.ipynb#X15sZmlsZQ%3D%3D?line=34'>35</a>\u001b[0m         interfaz_experto(data)\n",
      "\u001b[1;32mc:\\Users\\Javier Uroz\\source\\repos\\ProyectoFinal_PP02\\ProyectoFinalPP\\ProyectoFinalPP\\Funciones.ipynb Celda 11\u001b[0m in \u001b[0;36minterfaz_novato\u001b[1;34m(data)\u001b[0m\n\u001b[0;32m     <a href='vscode-notebook-cell:/c%3A/Users/Javier%20Uroz/source/repos/ProyectoFinal_PP02/ProyectoFinalPP/ProyectoFinalPP/Funciones.ipynb#X15sZmlsZQ%3D%3D?line=43'>44</a>\u001b[0m \u001b[39mwith\u001b[39;00m st\u001b[39m.\u001b[39mexpander(\u001b[39m'\u001b[39m\u001b[39mSeleccione los criterios de filtrado de su preferencia\u001b[39m\u001b[39m'\u001b[39m):\n\u001b[0;32m     <a href='vscode-notebook-cell:/c%3A/Users/Javier%20Uroz/source/repos/ProyectoFinal_PP02/ProyectoFinalPP/ProyectoFinalPP/Funciones.ipynb#X15sZmlsZQ%3D%3D?line=44'>45</a>\u001b[0m     col1 \u001b[39m=\u001b[39m st\u001b[39m.\u001b[39mcolumns(\u001b[39m2\u001b[39m)\n\u001b[1;32m---> <a href='vscode-notebook-cell:/c%3A/Users/Javier%20Uroz/source/repos/ProyectoFinal_PP02/ProyectoFinalPP/ProyectoFinalPP/Funciones.ipynb#X15sZmlsZQ%3D%3D?line=45'>46</a>\u001b[0m     marca \u001b[39m=\u001b[39m col1\u001b[39m.\u001b[39;49mmultiselect(\u001b[39m'\u001b[39m\u001b[39mMarca del vehículo\u001b[39m\u001b[39m'\u001b[39m, \u001b[39msorted\u001b[39m(data[\u001b[39m'\u001b[39m\u001b[39mMarca\u001b[39m\u001b[39m'\u001b[39m]\u001b[39m.\u001b[39munique()\u001b[39m.\u001b[39mtolist()))\n\u001b[0;32m     <a href='vscode-notebook-cell:/c%3A/Users/Javier%20Uroz/source/repos/ProyectoFinal_PP02/ProyectoFinalPP/ProyectoFinalPP/Funciones.ipynb#X15sZmlsZQ%3D%3D?line=46'>47</a>\u001b[0m     \u001b[39mif\u001b[39;00m marca \u001b[39m==\u001b[39m []:\n\u001b[0;32m     <a href='vscode-notebook-cell:/c%3A/Users/Javier%20Uroz/source/repos/ProyectoFinal_PP02/ProyectoFinalPP/ProyectoFinalPP/Funciones.ipynb#X15sZmlsZQ%3D%3D?line=47'>48</a>\u001b[0m         col1\u001b[39m.\u001b[39merror(\u001b[39m'\u001b[39m\u001b[39mElija al menos una marca de vehículo\u001b[39m\u001b[39m'\u001b[39m)\n",
      "\u001b[1;31mAttributeError\u001b[0m: 'list' object has no attribute 'multiselect'"
     ]
    }
   ],
   "source": [
    "define_interfaz(level_user, data)"
   ]
  }
 ],
 "metadata": {
  "kernelspec": {
   "display_name": "Python 3.9.13 ('Streamlit')",
   "language": "python",
   "name": "python3"
  },
  "language_info": {
   "codemirror_mode": {
    "name": "ipython",
    "version": 3
   },
   "file_extension": ".py",
   "mimetype": "text/x-python",
   "name": "python",
   "nbconvert_exporter": "python",
   "pygments_lexer": "ipython3",
   "version": "3.9.13"
  },
  "orig_nbformat": 4,
  "vscode": {
   "interpreter": {
    "hash": "5110318bf20d6abbe527c0f99fb8526968a11634a9bfa2dc684fd9e5e39d071f"
   }
  }
 },
 "nbformat": 4,
 "nbformat_minor": 2
}
