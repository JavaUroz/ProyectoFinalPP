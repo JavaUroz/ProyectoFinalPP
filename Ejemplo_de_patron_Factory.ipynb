{
  "nbformat": 4,
  "nbformat_minor": 0,
  "metadata": {
    "colab": {
      "provenance": [],
      "include_colab_link": true
    },
    "kernelspec": {
      "name": "python3",
      "display_name": "Python 3"
    },
    "language_info": {
      "name": "python"
    }
  },
  "cells": [
    {
      "cell_type": "markdown",
      "metadata": {
        "id": "view-in-github",
        "colab_type": "text"
      },
      "source": [
        "<a href=\"https://colab.research.google.com/github/JavaUroz/ProyectoFinalPP/blob/main/Ejemplo_de_patron_Factory.ipynb\" target=\"_parent\"><img src=\"https://colab.research.google.com/assets/colab-badge.svg\" alt=\"Open In Colab\"/></a>"
      ]
    },
    {
      "cell_type": "markdown",
      "source": [
        "## Patron Factory\n",
        "El patrón Factory permite crear objetos de distintos tipos, dependiendo de las necesidades que tenga el código en el momento de ejecución.\n",
        "La factoria depende de parámetros que le pasamos durante la ejecuón y a partir de los mismos define el tipo de objeto que debera crear para que cumpla con las necesidades del programa en ese momento de ejecución."
      ],
      "metadata": {
        "id": "F4z9AN1uqfv-"
      }
    },
    {
      "cell_type": "code",
      "execution_count": null,
      "metadata": {
        "id": "_uY5SXiwgzdz"
      },
      "outputs": [],
      "source": [
        "\"\"\"\n",
        "Clase que define a una persona\n",
        "\"\"\"\n",
        "\n",
        "class Persona(object):\n",
        "\t\"\"\"Para nuestro caso, una persona tendra un nombre,\n",
        "\tuna edad y un genero. \"\"\"\n",
        "\tdef __init__(self):\n",
        "\t\tself.nombre = None\n",
        "\t\tself.edad = None\n",
        "\t\tself.genero = None\n",
        "\n",
        "\t# Algunos metodos sencillos ...\n",
        "\tdef get_nombre(self):\n",
        "\t\treturn self.nombre\n",
        "\n",
        "\tdef get_edad(self):\n",
        "\t\treturn self.edad\n",
        "\n",
        "\tdef get_genero(self):\n",
        "\t\treturn self.genero\n",
        "\n",
        "\tdef __str__(self):\n",
        "\t\treturn \"Informacion de la persona:\\n1. Nombre: {n}\\n2. Edad: {e}\\n3. Genero: {g}\".format(\n",
        "\t\t\tn=self.get_nombre(), e=self.get_edad(), g=self.get_genero())"
      ]
    },
    {
      "cell_type": "code",
      "source": [
        "class Femenino(Persona): #Heredamos de persona\n",
        "\t\"\"\"Esta clase hereda de la super clase Persona,\n",
        "\tsolo definiremos su constructor\"\"\"\n",
        "\t\n",
        "\tdef __init__(self, nombre, edad, genero):\n",
        "\t\tself.nombre  = nombre\n",
        "\t\tself.edad = edad\n",
        "\t\tself.genero = genero\n",
        "\t\tprint (\"Hola Señora \",nombre,\" su edad es \",str(edad))"
      ],
      "metadata": {
        "id": "JPvzxzI6mRKN"
      },
      "execution_count": null,
      "outputs": []
    },
    {
      "cell_type": "code",
      "source": [
        "class Masculino(Persona): # Heredamos de Persona\n",
        "\t\"\"\"Esta clase hereda de la super clase Persona,\n",
        "\tsolo definiremos su constructor\"\"\"\n",
        "\n",
        "\tdef __init__(self, nombre, edad, genero):\n",
        "\t\tself.nombre = nombre\n",
        "\t\tself.edad = edad\n",
        "\t\tself.genero = genero\n",
        "\t\tprint (\"Hola Señor \",nombre,\" su edad es \",str(edad))"
      ],
      "metadata": {
        "id": "p7GLdm2MmeQB"
      },
      "execution_count": null,
      "outputs": []
    },
    {
      "cell_type": "code",
      "source": [
        "class NoBinario(Persona): # Heredamos de Persona\n",
        "\t\"\"\"Esta clase hereda de la super clase Persona,\n",
        "\tsolo definiremos su constructor\"\"\"\n",
        "\n",
        "\tdef __init__(self, nombre, edad, genero):\n",
        "\t\tself.nombre = nombre\n",
        "\t\tself.edad = edad\n",
        "\t\tself.genero = genero\n",
        "\t\tprint (\"Hola \",nombre,\" su edad es \",str(edad))"
      ],
      "metadata": {
        "id": "m8pl-BxLv7D6"
      },
      "execution_count": null,
      "outputs": []
    },
    {
      "cell_type": "code",
      "source": [
        "class Factoria(object):\n",
        "  \"\"\"Esta clase es nuestra factoria\"\"\"\n",
        "\n",
        "  def get_persona(self, nombre, genero, edad):\n",
        "    \"\"\"Metodo que retorna objetos persona segun el genero\"\"\"\n",
        "    # género es el parametro usado por la factoria \n",
        "  \t# para elegir el obj a crear\n",
        "    if (genero is 'F'): \n",
        "\t\t\t  return Femenino(nombre, edad, genero)\n",
        "    elif (genero is 'M'):\n",
        "\t\t\t  return Masculino(nombre, edad, genero)\n",
        "    # se agrega esta condición para incorporar las personas que no declaren en genero\n",
        "    else:\n",
        "      return NoBinario(nombre, edad, genero)"
      ],
      "metadata": {
        "id": "jvCWhEJNnTbz"
      },
      "execution_count": null,
      "outputs": []
    },
    {
      "cell_type": "code",
      "source": [
        "# Ingresa los datos una persona de género masculino\n",
        "nombre = 'Pedro Gimenez'\n",
        "genero = 'M'\n",
        "edad = 43"
      ],
      "metadata": {
        "id": "eAGa37mIn6eH"
      },
      "execution_count": null,
      "outputs": []
    },
    {
      "cell_type": "code",
      "source": [
        "mi_factoria = Factoria()\n",
        "#Factoria, crea a una persona!\n",
        "persona = mi_factoria.get_persona(nombre,genero,edad)\n",
        "#se ha creado una persona masculina\n",
        "print (persona) \n",
        "#print (persona.get_nombre())\n",
        "#print (persona.get_genero())"
      ],
      "metadata": {
        "colab": {
          "base_uri": "https://localhost:8080/"
        },
        "id": "fSj9WFPqnead",
        "outputId": "83379130-e6c8-4374-80c9-f628412deef4"
      },
      "execution_count": null,
      "outputs": [
        {
          "output_type": "stream",
          "name": "stdout",
          "text": [
            "Hola Señor  Pedro Gimenez  su edad es  43\n",
            "Informacion de una persona:\n",
            "1. Nombre: Pedro Gimenez\n",
            "2. Edad: 43\n",
            "3. Genero: M\n"
          ]
        }
      ]
    },
    {
      "cell_type": "code",
      "source": [
        "nombre = 'Alicia Perez'\n",
        "genero = 'F'\n",
        "edad = 32"
      ],
      "metadata": {
        "id": "cIIlW7Jbon1w"
      },
      "execution_count": null,
      "outputs": []
    },
    {
      "cell_type": "code",
      "source": [
        "mi_factoria = Factoria()\n",
        "#Factoria, crea a una persona!\n",
        "persona = mi_factoria.get_persona(nombre,genero,edad)\n",
        "#se ha creado una persona femenina\n",
        "print (persona) \n",
        "#print (persona.get_nombre())\n",
        "#print (persona.get_genero())"
      ],
      "metadata": {
        "colab": {
          "base_uri": "https://localhost:8080/"
        },
        "id": "J7ex5YMkpYoh",
        "outputId": "55c702f0-7fba-4a2c-96d6-a8496a136908"
      },
      "execution_count": null,
      "outputs": [
        {
          "output_type": "stream",
          "name": "stdout",
          "text": [
            "Hola Señora  Alicia Perez  su edad es  32\n",
            "Informacion de una persona:\n",
            "1. Nombre: Alicia Perez\n",
            "2. Edad: 32\n",
            "3. Genero: F\n"
          ]
        }
      ]
    },
    {
      "cell_type": "code",
      "source": [
        "# Ingresa los datos una persona de género sin definir\n",
        "nombre = 'J H'\n",
        "genero = ''\n",
        "edad = 19"
      ],
      "metadata": {
        "id": "JJua82xPpb26"
      },
      "execution_count": null,
      "outputs": []
    },
    {
      "cell_type": "code",
      "source": [
        "mi_factoria = Factoria()\n",
        "#Factoria, crea a una persona!\n",
        "persona = mi_factoria.get_persona(nombre,genero,edad)\n",
        "#se ha creado una persona no binaria\n",
        "print (persona) \n",
        "#print (persona.get_nombre())\n",
        "#print (persona.get_genero())"
      ],
      "metadata": {
        "colab": {
          "base_uri": "https://localhost:8080/"
        },
        "id": "oKiZb6S7vK_-",
        "outputId": "765e284d-483f-4e1c-d354-a06f8ac71756"
      },
      "execution_count": null,
      "outputs": [
        {
          "output_type": "stream",
          "name": "stdout",
          "text": [
            "Hola  J H  su edad es  19\n",
            "Informacion de una persona:\n",
            "1. Nombre: J H\n",
            "2. Edad: 19\n",
            "3. Genero: \n"
          ]
        }
      ]
    },
    {
      "cell_type": "code",
      "source": [],
      "metadata": {
        "id": "gS0BVF0ivNGb"
      },
      "execution_count": null,
      "outputs": []
    }
  ]
}