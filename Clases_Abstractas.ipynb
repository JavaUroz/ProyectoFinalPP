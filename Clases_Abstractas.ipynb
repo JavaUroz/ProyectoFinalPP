{
  "nbformat": 4,
  "nbformat_minor": 0,
  "metadata": {
    "colab": {
      "provenance": [],
      "include_colab_link": true
    },
    "kernelspec": {
      "name": "python3",
      "display_name": "Python 3"
    },
    "language_info": {
      "name": "python"
    }
  },
  "cells": [
    {
      "cell_type": "markdown",
      "metadata": {
        "id": "view-in-github",
        "colab_type": "text"
      },
      "source": [
        "<a href=\"https://colab.research.google.com/github/JavaUroz/ProyectoFinalPP/blob/main/Clases_Abstractas.ipynb\" target=\"_parent\"><img src=\"https://colab.research.google.com/assets/colab-badge.svg\" alt=\"Open In Colab\"/></a>"
      ]
    },
    {
      "cell_type": "code",
      "execution_count": null,
      "metadata": {
        "id": "pdUtPtxb6_BL"
      },
      "outputs": [],
      "source": [
        "## Creamos la clase Vehiculo\n",
        "\n",
        "class Vehiculo(object):\n",
        "  def __init__(self):\n",
        "    self.marca = None\n",
        "    self.modelo = None\n",
        "    self.version = None\n",
        "    self.motor_combustible = None\n",
        "    self.motor_potencia = None\n",
        "    self.transmision = None\n",
        "\n",
        "  def get_marca(self):\n",
        "    return self.marca\n",
        "\n",
        "  def get_modelo(self):\n",
        "    return self.modelo\n",
        "  \n",
        "  def get_version(self):\n",
        "    return self.version\n",
        "\n",
        "  def __str__(self):\n",
        "\t  return \"Informacion del vehiculo:\\n1. Marca: {m}\\n2. Modelo: {o}\\n3. Version: {v}\".format(\n",
        "\t\t\tm=self.get_marca(), o=self.get_modelo(), v=self.get_version())\n",
        "\n",
        "  "
      ]
    },
    {
      "cell_type": "code",
      "source": [
        "class Sedan(Vehiculo):\n",
        "  def __init__(self, marca, modelo, version, combustible, potencia, transmision):\n",
        "    self.marca = marca\n",
        "    self.modelo = modelo\n",
        "    self.version = version\n",
        "    self.motor_combustible = combustible\n",
        "    self.motor_potencia = potencia\n",
        "    self.transmision = transmision\n",
        "\n",
        "\n",
        "\n"
      ],
      "metadata": {
        "id": "DX8xXeTD-DFV"
      },
      "execution_count": null,
      "outputs": []
    },
    {
      "cell_type": "code",
      "source": [
        "class SUV(Vehiculo):\n",
        "  def __init__(self, marca, modelo, version, combustible, potencia, transmision, traccion):\n",
        "    self.marca = marca\n",
        "    self.modelo = modelo\n",
        "    self.version = version\n",
        "    self.motor_combustible = combustible\n",
        "    self.motor_potencia = potencia\n",
        "    self.transmision = transmision\n",
        "    self.traccion = traccion\n",
        "\n",
        "  def get_traccion(self):\n",
        "    return self.traccion\n",
        "\n",
        "  "
      ],
      "metadata": {
        "id": "zFti0Nwd-_dw"
      },
      "execution_count": null,
      "outputs": []
    },
    {
      "cell_type": "code",
      "source": [
        "class Camioneta(Vehiculo):\n",
        "  def __init__(self, marca, modelo, version, combustible, potencia, transmision, cabina, traccion):\n",
        "    self.marca = marca\n",
        "    self.modelo = modelo\n",
        "    self.version = version\n",
        "    self.motor_combustible = combustible\n",
        "    self.motor_potencia = potencia\n",
        "    self.transmision = transmision\n",
        "    self.cabina = cabina\n",
        "    self.traccion = traccion\n",
        "\n",
        "  def get_traccion(self):\n",
        "    return self.traccion\n",
        "\n",
        "  def get_cabina(self):\n",
        "    return self.cabina"
      ],
      "metadata": {
        "id": "qLOlpVjZAPe9"
      },
      "execution_count": null,
      "outputs": []
    },
    {
      "cell_type": "code",
      "source": [
        "import pandas as pd\n",
        "data = pd.read_csv('/content/drive/MyDrive/Espacios curriculares vigentes/PRACTICAS PROFESIONALIZANTES  II-DS/Evaluaciones/Fuentes de datos/DSS - Tablas de datos - Vehiculos.csv')\n",
        "data.head()"
      ],
      "metadata": {
        "colab": {
          "base_uri": "https://localhost:8080/",
          "height": 389
        },
        "id": "R0FyzhawBttE",
        "outputId": "cc4a7eff-228a-4a3f-d9bf-4b05bc64a72c"
      },
      "execution_count": null,
      "outputs": [
        {
          "output_type": "execute_result",
          "data": {
            "text/plain": [
              "        Marca  Modelo                                           Version  \\\n",
              "0  Volskwagen    Polo  1.6 MSi Trendline Tiptronic (110cv) (L18) 5Ptas.   \n",
              "1  Volskwagen    Polo       1.6 MSi Comfortline MT (110cv) (L18) 5Ptas.   \n",
              "2  Volskwagen  Amarok     2.0 TDI (180cv) 4x2 C/Doble Comfortline (L17)   \n",
              "3  Volskwagen  Amarok     2.0 TDI (180cv) 4x4 C/Doble Comfortline (L17)   \n",
              "4  Volskwagen    Taos              Comfortline 250TSI Tiptronic (150cv)   \n",
              "\n",
              "  TipoVehiculo Combustible  Potencia Transmisión Cabina Traccion  \n",
              "0     Sedan 5P       Nafta       110  Automática    NaN      4x2  \n",
              "1     Sedan 5P       Nafta       110      Manual    NaN      4x2  \n",
              "2    Camioneta      Diesel       180  Automática  Doble      4x2  \n",
              "3    Camioneta      Diesel       180  Automática  Doble      4x4  \n",
              "4          SUV       Nafta       150  Automática    NaN      4x2  "
            ],
            "text/html": [
              "\n",
              "  <div id=\"df-8f5bf48c-fb90-47a5-bb26-fc01b6c27ef7\">\n",
              "    <div class=\"colab-df-container\">\n",
              "      <div>\n",
              "<style scoped>\n",
              "    .dataframe tbody tr th:only-of-type {\n",
              "        vertical-align: middle;\n",
              "    }\n",
              "\n",
              "    .dataframe tbody tr th {\n",
              "        vertical-align: top;\n",
              "    }\n",
              "\n",
              "    .dataframe thead th {\n",
              "        text-align: right;\n",
              "    }\n",
              "</style>\n",
              "<table border=\"1\" class=\"dataframe\">\n",
              "  <thead>\n",
              "    <tr style=\"text-align: right;\">\n",
              "      <th></th>\n",
              "      <th>Marca</th>\n",
              "      <th>Modelo</th>\n",
              "      <th>Version</th>\n",
              "      <th>TipoVehiculo</th>\n",
              "      <th>Combustible</th>\n",
              "      <th>Potencia</th>\n",
              "      <th>Transmisión</th>\n",
              "      <th>Cabina</th>\n",
              "      <th>Traccion</th>\n",
              "    </tr>\n",
              "  </thead>\n",
              "  <tbody>\n",
              "    <tr>\n",
              "      <th>0</th>\n",
              "      <td>Volskwagen</td>\n",
              "      <td>Polo</td>\n",
              "      <td>1.6 MSi Trendline Tiptronic (110cv) (L18) 5Ptas.</td>\n",
              "      <td>Sedan 5P</td>\n",
              "      <td>Nafta</td>\n",
              "      <td>110</td>\n",
              "      <td>Automática</td>\n",
              "      <td>NaN</td>\n",
              "      <td>4x2</td>\n",
              "    </tr>\n",
              "    <tr>\n",
              "      <th>1</th>\n",
              "      <td>Volskwagen</td>\n",
              "      <td>Polo</td>\n",
              "      <td>1.6 MSi Comfortline MT (110cv) (L18) 5Ptas.</td>\n",
              "      <td>Sedan 5P</td>\n",
              "      <td>Nafta</td>\n",
              "      <td>110</td>\n",
              "      <td>Manual</td>\n",
              "      <td>NaN</td>\n",
              "      <td>4x2</td>\n",
              "    </tr>\n",
              "    <tr>\n",
              "      <th>2</th>\n",
              "      <td>Volskwagen</td>\n",
              "      <td>Amarok</td>\n",
              "      <td>2.0 TDI (180cv) 4x2 C/Doble Comfortline (L17)</td>\n",
              "      <td>Camioneta</td>\n",
              "      <td>Diesel</td>\n",
              "      <td>180</td>\n",
              "      <td>Automática</td>\n",
              "      <td>Doble</td>\n",
              "      <td>4x2</td>\n",
              "    </tr>\n",
              "    <tr>\n",
              "      <th>3</th>\n",
              "      <td>Volskwagen</td>\n",
              "      <td>Amarok</td>\n",
              "      <td>2.0 TDI (180cv) 4x4 C/Doble Comfortline (L17)</td>\n",
              "      <td>Camioneta</td>\n",
              "      <td>Diesel</td>\n",
              "      <td>180</td>\n",
              "      <td>Automática</td>\n",
              "      <td>Doble</td>\n",
              "      <td>4x4</td>\n",
              "    </tr>\n",
              "    <tr>\n",
              "      <th>4</th>\n",
              "      <td>Volskwagen</td>\n",
              "      <td>Taos</td>\n",
              "      <td>Comfortline 250TSI Tiptronic (150cv)</td>\n",
              "      <td>SUV</td>\n",
              "      <td>Nafta</td>\n",
              "      <td>150</td>\n",
              "      <td>Automática</td>\n",
              "      <td>NaN</td>\n",
              "      <td>4x2</td>\n",
              "    </tr>\n",
              "  </tbody>\n",
              "</table>\n",
              "</div>\n",
              "      <button class=\"colab-df-convert\" onclick=\"convertToInteractive('df-8f5bf48c-fb90-47a5-bb26-fc01b6c27ef7')\"\n",
              "              title=\"Convert this dataframe to an interactive table.\"\n",
              "              style=\"display:none;\">\n",
              "        \n",
              "  <svg xmlns=\"http://www.w3.org/2000/svg\" height=\"24px\"viewBox=\"0 0 24 24\"\n",
              "       width=\"24px\">\n",
              "    <path d=\"M0 0h24v24H0V0z\" fill=\"none\"/>\n",
              "    <path d=\"M18.56 5.44l.94 2.06.94-2.06 2.06-.94-2.06-.94-.94-2.06-.94 2.06-2.06.94zm-11 1L8.5 8.5l.94-2.06 2.06-.94-2.06-.94L8.5 2.5l-.94 2.06-2.06.94zm10 10l.94 2.06.94-2.06 2.06-.94-2.06-.94-.94-2.06-.94 2.06-2.06.94z\"/><path d=\"M17.41 7.96l-1.37-1.37c-.4-.4-.92-.59-1.43-.59-.52 0-1.04.2-1.43.59L10.3 9.45l-7.72 7.72c-.78.78-.78 2.05 0 2.83L4 21.41c.39.39.9.59 1.41.59.51 0 1.02-.2 1.41-.59l7.78-7.78 2.81-2.81c.8-.78.8-2.07 0-2.86zM5.41 20L4 18.59l7.72-7.72 1.47 1.35L5.41 20z\"/>\n",
              "  </svg>\n",
              "      </button>\n",
              "      \n",
              "  <style>\n",
              "    .colab-df-container {\n",
              "      display:flex;\n",
              "      flex-wrap:wrap;\n",
              "      gap: 12px;\n",
              "    }\n",
              "\n",
              "    .colab-df-convert {\n",
              "      background-color: #E8F0FE;\n",
              "      border: none;\n",
              "      border-radius: 50%;\n",
              "      cursor: pointer;\n",
              "      display: none;\n",
              "      fill: #1967D2;\n",
              "      height: 32px;\n",
              "      padding: 0 0 0 0;\n",
              "      width: 32px;\n",
              "    }\n",
              "\n",
              "    .colab-df-convert:hover {\n",
              "      background-color: #E2EBFA;\n",
              "      box-shadow: 0px 1px 2px rgba(60, 64, 67, 0.3), 0px 1px 3px 1px rgba(60, 64, 67, 0.15);\n",
              "      fill: #174EA6;\n",
              "    }\n",
              "\n",
              "    [theme=dark] .colab-df-convert {\n",
              "      background-color: #3B4455;\n",
              "      fill: #D2E3FC;\n",
              "    }\n",
              "\n",
              "    [theme=dark] .colab-df-convert:hover {\n",
              "      background-color: #434B5C;\n",
              "      box-shadow: 0px 1px 3px 1px rgba(0, 0, 0, 0.15);\n",
              "      filter: drop-shadow(0px 1px 2px rgba(0, 0, 0, 0.3));\n",
              "      fill: #FFFFFF;\n",
              "    }\n",
              "  </style>\n",
              "\n",
              "      <script>\n",
              "        const buttonEl =\n",
              "          document.querySelector('#df-8f5bf48c-fb90-47a5-bb26-fc01b6c27ef7 button.colab-df-convert');\n",
              "        buttonEl.style.display =\n",
              "          google.colab.kernel.accessAllowed ? 'block' : 'none';\n",
              "\n",
              "        async function convertToInteractive(key) {\n",
              "          const element = document.querySelector('#df-8f5bf48c-fb90-47a5-bb26-fc01b6c27ef7');\n",
              "          const dataTable =\n",
              "            await google.colab.kernel.invokeFunction('convertToInteractive',\n",
              "                                                     [key], {});\n",
              "          if (!dataTable) return;\n",
              "\n",
              "          const docLinkHtml = 'Like what you see? Visit the ' +\n",
              "            '<a target=\"_blank\" href=https://colab.research.google.com/notebooks/data_table.ipynb>data table notebook</a>'\n",
              "            + ' to learn more about interactive tables.';\n",
              "          element.innerHTML = '';\n",
              "          dataTable['output_type'] = 'display_data';\n",
              "          await google.colab.output.renderOutput(dataTable, element);\n",
              "          const docLink = document.createElement('div');\n",
              "          docLink.innerHTML = docLinkHtml;\n",
              "          element.appendChild(docLink);\n",
              "        }\n",
              "      </script>\n",
              "    </div>\n",
              "  </div>\n",
              "  "
            ]
          },
          "metadata": {},
          "execution_count": 6
        }
      ]
    },
    {
      "cell_type": "code",
      "source": [
        "elegido = data[data['Version'].isin(['1.6 MSi Trendline Tiptronic (110cv) (L18) 5Ptas.'])]\n",
        "elegido"
      ],
      "metadata": {
        "colab": {
          "base_uri": "https://localhost:8080/",
          "height": 159
        },
        "id": "F1DfO4QZC16W",
        "outputId": "a3b20af2-6cf9-4afd-aaa1-79e6d716f1d4"
      },
      "execution_count": null,
      "outputs": [
        {
          "output_type": "execute_result",
          "data": {
            "text/plain": [
              "        Marca Modelo                                           Version  \\\n",
              "0  Volskwagen   Polo  1.6 MSi Trendline Tiptronic (110cv) (L18) 5Ptas.   \n",
              "\n",
              "  TipoVehiculo Combustible  Potencia Transmisión Cabina Traccion  \n",
              "0     Sedan 5P       Nafta       110  Automática    NaN      4x2  "
            ],
            "text/html": [
              "\n",
              "  <div id=\"df-0cba31ac-5013-414f-979f-6e85613359b0\">\n",
              "    <div class=\"colab-df-container\">\n",
              "      <div>\n",
              "<style scoped>\n",
              "    .dataframe tbody tr th:only-of-type {\n",
              "        vertical-align: middle;\n",
              "    }\n",
              "\n",
              "    .dataframe tbody tr th {\n",
              "        vertical-align: top;\n",
              "    }\n",
              "\n",
              "    .dataframe thead th {\n",
              "        text-align: right;\n",
              "    }\n",
              "</style>\n",
              "<table border=\"1\" class=\"dataframe\">\n",
              "  <thead>\n",
              "    <tr style=\"text-align: right;\">\n",
              "      <th></th>\n",
              "      <th>Marca</th>\n",
              "      <th>Modelo</th>\n",
              "      <th>Version</th>\n",
              "      <th>TipoVehiculo</th>\n",
              "      <th>Combustible</th>\n",
              "      <th>Potencia</th>\n",
              "      <th>Transmisión</th>\n",
              "      <th>Cabina</th>\n",
              "      <th>Traccion</th>\n",
              "    </tr>\n",
              "  </thead>\n",
              "  <tbody>\n",
              "    <tr>\n",
              "      <th>0</th>\n",
              "      <td>Volskwagen</td>\n",
              "      <td>Polo</td>\n",
              "      <td>1.6 MSi Trendline Tiptronic (110cv) (L18) 5Ptas.</td>\n",
              "      <td>Sedan 5P</td>\n",
              "      <td>Nafta</td>\n",
              "      <td>110</td>\n",
              "      <td>Automática</td>\n",
              "      <td>NaN</td>\n",
              "      <td>4x2</td>\n",
              "    </tr>\n",
              "  </tbody>\n",
              "</table>\n",
              "</div>\n",
              "      <button class=\"colab-df-convert\" onclick=\"convertToInteractive('df-0cba31ac-5013-414f-979f-6e85613359b0')\"\n",
              "              title=\"Convert this dataframe to an interactive table.\"\n",
              "              style=\"display:none;\">\n",
              "        \n",
              "  <svg xmlns=\"http://www.w3.org/2000/svg\" height=\"24px\"viewBox=\"0 0 24 24\"\n",
              "       width=\"24px\">\n",
              "    <path d=\"M0 0h24v24H0V0z\" fill=\"none\"/>\n",
              "    <path d=\"M18.56 5.44l.94 2.06.94-2.06 2.06-.94-2.06-.94-.94-2.06-.94 2.06-2.06.94zm-11 1L8.5 8.5l.94-2.06 2.06-.94-2.06-.94L8.5 2.5l-.94 2.06-2.06.94zm10 10l.94 2.06.94-2.06 2.06-.94-2.06-.94-.94-2.06-.94 2.06-2.06.94z\"/><path d=\"M17.41 7.96l-1.37-1.37c-.4-.4-.92-.59-1.43-.59-.52 0-1.04.2-1.43.59L10.3 9.45l-7.72 7.72c-.78.78-.78 2.05 0 2.83L4 21.41c.39.39.9.59 1.41.59.51 0 1.02-.2 1.41-.59l7.78-7.78 2.81-2.81c.8-.78.8-2.07 0-2.86zM5.41 20L4 18.59l7.72-7.72 1.47 1.35L5.41 20z\"/>\n",
              "  </svg>\n",
              "      </button>\n",
              "      \n",
              "  <style>\n",
              "    .colab-df-container {\n",
              "      display:flex;\n",
              "      flex-wrap:wrap;\n",
              "      gap: 12px;\n",
              "    }\n",
              "\n",
              "    .colab-df-convert {\n",
              "      background-color: #E8F0FE;\n",
              "      border: none;\n",
              "      border-radius: 50%;\n",
              "      cursor: pointer;\n",
              "      display: none;\n",
              "      fill: #1967D2;\n",
              "      height: 32px;\n",
              "      padding: 0 0 0 0;\n",
              "      width: 32px;\n",
              "    }\n",
              "\n",
              "    .colab-df-convert:hover {\n",
              "      background-color: #E2EBFA;\n",
              "      box-shadow: 0px 1px 2px rgba(60, 64, 67, 0.3), 0px 1px 3px 1px rgba(60, 64, 67, 0.15);\n",
              "      fill: #174EA6;\n",
              "    }\n",
              "\n",
              "    [theme=dark] .colab-df-convert {\n",
              "      background-color: #3B4455;\n",
              "      fill: #D2E3FC;\n",
              "    }\n",
              "\n",
              "    [theme=dark] .colab-df-convert:hover {\n",
              "      background-color: #434B5C;\n",
              "      box-shadow: 0px 1px 3px 1px rgba(0, 0, 0, 0.15);\n",
              "      filter: drop-shadow(0px 1px 2px rgba(0, 0, 0, 0.3));\n",
              "      fill: #FFFFFF;\n",
              "    }\n",
              "  </style>\n",
              "\n",
              "      <script>\n",
              "        const buttonEl =\n",
              "          document.querySelector('#df-0cba31ac-5013-414f-979f-6e85613359b0 button.colab-df-convert');\n",
              "        buttonEl.style.display =\n",
              "          google.colab.kernel.accessAllowed ? 'block' : 'none';\n",
              "\n",
              "        async function convertToInteractive(key) {\n",
              "          const element = document.querySelector('#df-0cba31ac-5013-414f-979f-6e85613359b0');\n",
              "          const dataTable =\n",
              "            await google.colab.kernel.invokeFunction('convertToInteractive',\n",
              "                                                     [key], {});\n",
              "          if (!dataTable) return;\n",
              "\n",
              "          const docLinkHtml = 'Like what you see? Visit the ' +\n",
              "            '<a target=\"_blank\" href=https://colab.research.google.com/notebooks/data_table.ipynb>data table notebook</a>'\n",
              "            + ' to learn more about interactive tables.';\n",
              "          element.innerHTML = '';\n",
              "          dataTable['output_type'] = 'display_data';\n",
              "          await google.colab.output.renderOutput(dataTable, element);\n",
              "          const docLink = document.createElement('div');\n",
              "          docLink.innerHTML = docLinkHtml;\n",
              "          element.appendChild(docLink);\n",
              "        }\n",
              "      </script>\n",
              "    </div>\n",
              "  </div>\n",
              "  "
            ]
          },
          "metadata": {},
          "execution_count": 7
        }
      ]
    },
    {
      "cell_type": "code",
      "source": [
        "auto1 = Sedan(elegido.Marca, elegido.Modelo, elegido.Version, elegido.Combustible, elegido.Potencia, elegido.Transmisión)"
      ],
      "metadata": {
        "id": "iIoEpV4KDQCo"
      },
      "execution_count": null,
      "outputs": []
    },
    {
      "cell_type": "code",
      "source": [
        "print(auto1)"
      ],
      "metadata": {
        "colab": {
          "base_uri": "https://localhost:8080/"
        },
        "id": "CPwdOlFGD218",
        "outputId": "fbe858e3-5a1a-4e63-c025-82b1b174b650"
      },
      "execution_count": null,
      "outputs": [
        {
          "output_type": "stream",
          "name": "stdout",
          "text": [
            "Informacion del vehiculo:\n",
            "1. Marca: 0    Volskwagen\n",
            "Name: Marca, dtype: object\n",
            "2. Modelo: 0    Polo\n",
            "Name: Modelo, dtype: object\n",
            "3. Version: 0    1.6 MSi Trendline Tiptronic (110cv) (L18) 5Ptas.\n",
            "Name: Version, dtype: object\n"
          ]
        }
      ]
    },
    {
      "cell_type": "code",
      "source": [
        "auto1.get_traccion()"
      ],
      "metadata": {
        "id": "acjei3owa_4O",
        "outputId": "d2d3f201-6155-43ff-8bbd-1a0ad0599c6b",
        "colab": {
          "base_uri": "https://localhost:8080/",
          "height": 166
        }
      },
      "execution_count": null,
      "outputs": [
        {
          "output_type": "error",
          "ename": "AttributeError",
          "evalue": "ignored",
          "traceback": [
            "\u001b[0;31m---------------------------------------------------------------------------\u001b[0m",
            "\u001b[0;31mAttributeError\u001b[0m                            Traceback (most recent call last)",
            "\u001b[0;32m<ipython-input-14-da868ab46ee8>\u001b[0m in \u001b[0;36m<module>\u001b[0;34m\u001b[0m\n\u001b[0;32m----> 1\u001b[0;31m \u001b[0mauto1\u001b[0m\u001b[0;34m.\u001b[0m\u001b[0mget_traccion\u001b[0m\u001b[0;34m(\u001b[0m\u001b[0;34m)\u001b[0m\u001b[0;34m\u001b[0m\u001b[0;34m\u001b[0m\u001b[0m\n\u001b[0m",
            "\u001b[0;31mAttributeError\u001b[0m: 'Sedan' object has no attribute 'get_traccion'"
          ]
        }
      ]
    },
    {
      "cell_type": "code",
      "source": [
        "elegido = data[data['Version'].isin(['2.0 TDI (180cv) 4x4 C/Doble Comfortline (L17)'])]\n",
        "elegido"
      ],
      "metadata": {
        "colab": {
          "base_uri": "https://localhost:8080/",
          "height": 159
        },
        "id": "Tw_i4pzSFIqp",
        "outputId": "63ec4612-0341-4115-f632-e498f960afdd"
      },
      "execution_count": null,
      "outputs": [
        {
          "output_type": "execute_result",
          "data": {
            "text/plain": [
              "        Marca  Modelo                                        Version  \\\n",
              "3  Volskwagen  Amarok  2.0 TDI (180cv) 4x4 C/Doble Comfortline (L17)   \n",
              "\n",
              "  TipoVehiculo Combustible  Potencia Transmisión Cabina Traccion  \n",
              "3    Camioneta      Diesel       180  Automática  Doble      4x4  "
            ],
            "text/html": [
              "\n",
              "  <div id=\"df-5911325c-fca4-463e-bb72-64470046bb48\">\n",
              "    <div class=\"colab-df-container\">\n",
              "      <div>\n",
              "<style scoped>\n",
              "    .dataframe tbody tr th:only-of-type {\n",
              "        vertical-align: middle;\n",
              "    }\n",
              "\n",
              "    .dataframe tbody tr th {\n",
              "        vertical-align: top;\n",
              "    }\n",
              "\n",
              "    .dataframe thead th {\n",
              "        text-align: right;\n",
              "    }\n",
              "</style>\n",
              "<table border=\"1\" class=\"dataframe\">\n",
              "  <thead>\n",
              "    <tr style=\"text-align: right;\">\n",
              "      <th></th>\n",
              "      <th>Marca</th>\n",
              "      <th>Modelo</th>\n",
              "      <th>Version</th>\n",
              "      <th>TipoVehiculo</th>\n",
              "      <th>Combustible</th>\n",
              "      <th>Potencia</th>\n",
              "      <th>Transmisión</th>\n",
              "      <th>Cabina</th>\n",
              "      <th>Traccion</th>\n",
              "    </tr>\n",
              "  </thead>\n",
              "  <tbody>\n",
              "    <tr>\n",
              "      <th>3</th>\n",
              "      <td>Volskwagen</td>\n",
              "      <td>Amarok</td>\n",
              "      <td>2.0 TDI (180cv) 4x4 C/Doble Comfortline (L17)</td>\n",
              "      <td>Camioneta</td>\n",
              "      <td>Diesel</td>\n",
              "      <td>180</td>\n",
              "      <td>Automática</td>\n",
              "      <td>Doble</td>\n",
              "      <td>4x4</td>\n",
              "    </tr>\n",
              "  </tbody>\n",
              "</table>\n",
              "</div>\n",
              "      <button class=\"colab-df-convert\" onclick=\"convertToInteractive('df-5911325c-fca4-463e-bb72-64470046bb48')\"\n",
              "              title=\"Convert this dataframe to an interactive table.\"\n",
              "              style=\"display:none;\">\n",
              "        \n",
              "  <svg xmlns=\"http://www.w3.org/2000/svg\" height=\"24px\"viewBox=\"0 0 24 24\"\n",
              "       width=\"24px\">\n",
              "    <path d=\"M0 0h24v24H0V0z\" fill=\"none\"/>\n",
              "    <path d=\"M18.56 5.44l.94 2.06.94-2.06 2.06-.94-2.06-.94-.94-2.06-.94 2.06-2.06.94zm-11 1L8.5 8.5l.94-2.06 2.06-.94-2.06-.94L8.5 2.5l-.94 2.06-2.06.94zm10 10l.94 2.06.94-2.06 2.06-.94-2.06-.94-.94-2.06-.94 2.06-2.06.94z\"/><path d=\"M17.41 7.96l-1.37-1.37c-.4-.4-.92-.59-1.43-.59-.52 0-1.04.2-1.43.59L10.3 9.45l-7.72 7.72c-.78.78-.78 2.05 0 2.83L4 21.41c.39.39.9.59 1.41.59.51 0 1.02-.2 1.41-.59l7.78-7.78 2.81-2.81c.8-.78.8-2.07 0-2.86zM5.41 20L4 18.59l7.72-7.72 1.47 1.35L5.41 20z\"/>\n",
              "  </svg>\n",
              "      </button>\n",
              "      \n",
              "  <style>\n",
              "    .colab-df-container {\n",
              "      display:flex;\n",
              "      flex-wrap:wrap;\n",
              "      gap: 12px;\n",
              "    }\n",
              "\n",
              "    .colab-df-convert {\n",
              "      background-color: #E8F0FE;\n",
              "      border: none;\n",
              "      border-radius: 50%;\n",
              "      cursor: pointer;\n",
              "      display: none;\n",
              "      fill: #1967D2;\n",
              "      height: 32px;\n",
              "      padding: 0 0 0 0;\n",
              "      width: 32px;\n",
              "    }\n",
              "\n",
              "    .colab-df-convert:hover {\n",
              "      background-color: #E2EBFA;\n",
              "      box-shadow: 0px 1px 2px rgba(60, 64, 67, 0.3), 0px 1px 3px 1px rgba(60, 64, 67, 0.15);\n",
              "      fill: #174EA6;\n",
              "    }\n",
              "\n",
              "    [theme=dark] .colab-df-convert {\n",
              "      background-color: #3B4455;\n",
              "      fill: #D2E3FC;\n",
              "    }\n",
              "\n",
              "    [theme=dark] .colab-df-convert:hover {\n",
              "      background-color: #434B5C;\n",
              "      box-shadow: 0px 1px 3px 1px rgba(0, 0, 0, 0.15);\n",
              "      filter: drop-shadow(0px 1px 2px rgba(0, 0, 0, 0.3));\n",
              "      fill: #FFFFFF;\n",
              "    }\n",
              "  </style>\n",
              "\n",
              "      <script>\n",
              "        const buttonEl =\n",
              "          document.querySelector('#df-5911325c-fca4-463e-bb72-64470046bb48 button.colab-df-convert');\n",
              "        buttonEl.style.display =\n",
              "          google.colab.kernel.accessAllowed ? 'block' : 'none';\n",
              "\n",
              "        async function convertToInteractive(key) {\n",
              "          const element = document.querySelector('#df-5911325c-fca4-463e-bb72-64470046bb48');\n",
              "          const dataTable =\n",
              "            await google.colab.kernel.invokeFunction('convertToInteractive',\n",
              "                                                     [key], {});\n",
              "          if (!dataTable) return;\n",
              "\n",
              "          const docLinkHtml = 'Like what you see? Visit the ' +\n",
              "            '<a target=\"_blank\" href=https://colab.research.google.com/notebooks/data_table.ipynb>data table notebook</a>'\n",
              "            + ' to learn more about interactive tables.';\n",
              "          element.innerHTML = '';\n",
              "          dataTable['output_type'] = 'display_data';\n",
              "          await google.colab.output.renderOutput(dataTable, element);\n",
              "          const docLink = document.createElement('div');\n",
              "          docLink.innerHTML = docLinkHtml;\n",
              "          element.appendChild(docLink);\n",
              "        }\n",
              "      </script>\n",
              "    </div>\n",
              "  </div>\n",
              "  "
            ]
          },
          "metadata": {},
          "execution_count": 11
        }
      ]
    },
    {
      "cell_type": "code",
      "source": [
        "camioneta1 = Camioneta(elegido.Marca, elegido.Modelo, elegido.Version, elegido.Combustible, elegido.Potencia, elegido.Transmisión, elegido.Cabina, elegido.Traccion)"
      ],
      "metadata": {
        "id": "tDh1fRXcK8Ll"
      },
      "execution_count": null,
      "outputs": []
    },
    {
      "cell_type": "code",
      "source": [
        "camioneta1.get_traccion()"
      ],
      "metadata": {
        "colab": {
          "base_uri": "https://localhost:8080/"
        },
        "id": "iGD1n3x5LQZn",
        "outputId": "4bb7dbb6-a228-400c-c984-aaf69f9d6f76"
      },
      "execution_count": null,
      "outputs": [
        {
          "output_type": "execute_result",
          "data": {
            "text/plain": [
              "3    4x4\n",
              "Name: Traccion, dtype: object"
            ]
          },
          "metadata": {},
          "execution_count": 13
        }
      ]
    },
    {
      "cell_type": "code",
      "source": [
        "camioneta1.get_modelo()"
      ],
      "metadata": {
        "colab": {
          "base_uri": "https://localhost:8080/"
        },
        "id": "Cx9K0peVLV5-",
        "outputId": "85d9b57a-6746-4407-8a7c-9d58590bf1ac"
      },
      "execution_count": null,
      "outputs": [
        {
          "output_type": "execute_result",
          "data": {
            "text/plain": [
              "3    Amarok\n",
              "Name: Modelo, dtype: object"
            ]
          },
          "metadata": {},
          "execution_count": 83
        }
      ]
    },
    {
      "cell_type": "code",
      "source": [],
      "metadata": {
        "id": "OBHdeMFwTpRR"
      },
      "execution_count": null,
      "outputs": []
    }
  ]
}