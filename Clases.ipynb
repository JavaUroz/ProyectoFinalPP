{
 "cells": [
  {
   "cell_type": "code",
   "execution_count": 2,
   "metadata": {},
   "outputs": [
    {
     "name": "stderr",
     "output_type": "stream",
     "text": [
      "2022-10-28 09:49:28.862 INFO    numexpr.utils: NumExpr defaulting to 4 threads.\n",
      "2022-10-28 09:49:32.714 INFO    matplotlib.font_manager: generated new fontManager\n"
     ]
    }
   ],
   "source": [
    "#from types import NoneType\n",
    "from typing_extensions import Self\n",
    "import streamlit as st"
   ]
  },
  {
   "cell_type": "code",
   "execution_count": 3,
   "metadata": {},
   "outputs": [],
   "source": [
    "class Vehiculo(object):\n",
    "  def __init__(self):\n",
    "    self.marca = None\n",
    "    self.modelo = None\n",
    "    self.version = None\n",
    "    self.tipo = None\n",
    "    self.motor_combustible = None\n",
    "    self.motor_potencia = None\n",
    "    self.transmision = None    \n",
    "    self.traccion = None\n",
    "\n",
    "  def get_marca(self):\n",
    "      return self.marca\n",
    "\n",
    "  def get_modelo(self):\n",
    "      return self.modelo\n",
    "\n",
    "  def get_version(self):\n",
    "      return self.version\n",
    "\n",
    "  def get_tipo(self):\n",
    "      return self.tipo\n",
    "\n",
    "  def get_combustible(self):\n",
    "      return self.motor_combustible\n",
    "\n",
    "  def get_traccion(self):\n",
    "      return self.traccion\n"
   ]
  },
  {
   "cell_type": "code",
   "execution_count": 4,
   "metadata": {},
   "outputs": [],
   "source": [
    "class Auto_Suv(Vehiculo):\n",
    "    def __init__(self, marca, modelo, version, tipo, combustible, potencia, transmision, traccion):\n",
    "        self.marca = marca\n",
    "        self.modelo = modelo\n",
    "        self.version = version\n",
    "        self.tipo = tipo\n",
    "        self.combustible = combustible\n",
    "        self.potencia = potencia\n",
    "        self.transmision = transmision\n",
    "        self.traccion = traccion"
   ]
  },
  {
   "cell_type": "code",
   "execution_count": 5,
   "metadata": {},
   "outputs": [],
   "source": [
    "class Camioneta(Vehiculo):\n",
    "    def __init__(self, marca, modelo, version, tipo, combustible, potencia, transmision, cabina, traccion):\n",
    "        self.marca = marca\n",
    "        self.modelo = modelo\n",
    "        self.version = version\n",
    "        self.tipo = tipo\n",
    "        self.combustible = combustible\n",
    "        self.potencia = potencia\n",
    "        self.transmision = transmision\n",
    "        self.cabina = cabina\n",
    "        self.traccion = traccion\n",
    "\n",
    "    def get_cabina(self):\n",
    "        return self.cabina"
   ]
  },
  {
   "cell_type": "code",
   "execution_count": 21,
   "metadata": {},
   "outputs": [],
   "source": [
    "class Factoria(object):\n",
    "    def get_vehiculo(self, marca, modelo, version, tipo, combustible, potencia, transmision, cabina, traccion):\n",
    "        if (cabina != ''):\n",
    "            return Camioneta(marca, modelo, version, tipo, combustible, potencia, transmision, cabina, traccion)\n",
    "        else:\n",
    "            return Auto_Suv(marca, modelo, version, tipo, combustible, potencia, transmision, traccion)"
   ]
  },
  {
   "cell_type": "code",
   "execution_count": 25,
   "metadata": {},
   "outputs": [],
   "source": [
    "marca = 'Fiat'\n",
    "modelo = 'Argo'\n",
    "version = 'Full-full'\n",
    "tipo = 'Sedan 5p'\n",
    "combustible = 'Nafta'\n",
    "potencia = '130cv'\n",
    "transmision = 'Automatica'\n",
    "cabina = 'Simple'\n",
    "traccion = '4x2'"
   ]
  },
  {
   "cell_type": "code",
   "execution_count": 26,
   "metadata": {},
   "outputs": [
    {
     "data": {
      "text/plain": [
       "'<__main__.Camioneta object at 0x0000013E1A70B490>'"
      ]
     },
     "execution_count": 26,
     "metadata": {},
     "output_type": "execute_result"
    }
   ],
   "source": [
    "mi_factoria = Factoria()\n",
    "auto = mi_factoria.get_vehiculo(marca, modelo, version, tipo, combustible, potencia, transmision, cabina, traccion)\n",
    "auto.__str__()"
   ]
  },
  {
   "cell_type": "code",
   "execution_count": null,
   "metadata": {},
   "outputs": [],
   "source": []
  }
 ],
 "metadata": {
  "kernelspec": {
   "display_name": "Python 3.9.13 ('Streamlit')",
   "language": "python",
   "name": "python3"
  },
  "language_info": {
   "codemirror_mode": {
    "name": "ipython",
    "version": 3
   },
   "file_extension": ".py",
   "mimetype": "text/x-python",
   "name": "python",
   "nbconvert_exporter": "python",
   "pygments_lexer": "ipython3",
   "version": "3.9.13"
  },
  "orig_nbformat": 4,
  "vscode": {
   "interpreter": {
    "hash": "5110318bf20d6abbe527c0f99fb8526968a11634a9bfa2dc684fd9e5e39d071f"
   }
  }
 },
 "nbformat": 4,
 "nbformat_minor": 2
}
