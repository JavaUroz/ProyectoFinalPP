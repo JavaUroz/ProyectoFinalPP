{
 "cells": [
  {
   "cell_type": "code",
   "execution_count": null,
   "metadata": {},
   "outputs": [],
   "source": [
    "from types import NoneType\n",
    "from typing_extensions import Self\n",
    "import streamlit as st"
   ]
  },
  {
   "cell_type": "code",
   "execution_count": null,
   "metadata": {},
   "outputs": [],
   "source": [
    "class Vehiculo(object):\n",
    "  def __init__(self):\n",
    "    self.marca = None\n",
    "    self.modelo = None\n",
    "    self.version = None\n",
    "    self.tipo = None\n",
    "    self.motor_combustible = None\n",
    "    self.motor_potencia = None\n",
    "    self.transmision = None    \n",
    "    self.traccion = None\n",
    "\n",
    "  def get_marca(self):\n",
    "      return self.marca\n",
    "\n",
    "  def get_modelo(self):\n",
    "      return self.modelo\n",
    "\n",
    "  def get_version(self):\n",
    "      return self.version\n",
    "\n",
    "  def get_tipo(self):\n",
    "      return self.tipo\n",
    "\n",
    "  def get_combustible(self):\n",
    "      return self.motor_combustible\n",
    "\n",
    "  def get_traccion(self):\n",
    "      return self.traccion"
   ]
  },
  {
   "cell_type": "code",
   "execution_count": null,
   "metadata": {},
   "outputs": [],
   "source": [
    "class Auto_Suv(Vehiculo):\n",
    "    def __init__(self, marca, modelo, version, tipo, combustible, potencia, transmision, traccion):\n",
    "        self.marca = marca\n",
    "        self.modelo = modelo\n",
    "        self.version = version\n",
    "        self.tipo = tipo\n",
    "        self.combustible = combustible\n",
    "        self.potencia = potencia\n",
    "        self.transmision = transmision\n",
    "        self.traccion = traccion"
   ]
  },
  {
   "cell_type": "code",
   "execution_count": null,
   "metadata": {},
   "outputs": [],
   "source": [
    "class Camioneta(Vehiculo):\n",
    "    def __init__(self, marca, modelo, version, tipo, combustible, potencia, transmision, cabina, traccion):\n",
    "        self.marca = marca\n",
    "        self.modelo = modelo\n",
    "        self.version = version\n",
    "        self.tipo = tipo\n",
    "        self.combustible = combustible\n",
    "        self.potencia = potencia\n",
    "        self.transmision = transmision\n",
    "        self.cabina = cabina\n",
    "        self.traccion = traccion\n",
    "\n",
    "    def get_cabina(self):\n",
    "        return self.cabina"
   ]
  },
  {
   "cell_type": "code",
   "execution_count": null,
   "metadata": {},
   "outputs": [],
   "source": [
    "class Factoria(object):\n",
    "    def get_vehiculo(self, marca, modelo, version, tipo, combustible, potencia, transmision, cabina, traccion):\n",
    "        if (cabina != None):\n",
    "            return Camioneta(self, marca, modelo, version, tipo, combustible, potencia, transmision, cabina, traccion)\n",
    "        else:\n",
    "            return Auto_Suv(self, marca, modelo, version, tipo, combustible, potencia, transmision, traccion)"
   ]
  }
 ],
 "metadata": {
  "language_info": {
   "name": "python"
  },
  "orig_nbformat": 4
 },
 "nbformat": 4,
 "nbformat_minor": 2
}
