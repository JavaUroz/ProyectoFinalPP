{
 "cells": [
  {
   "cell_type": "markdown",
   "metadata": {
    "colab_type": "text",
    "id": "view-in-github"
   },
   "source": [
    "<a href=\"https://colab.research.google.com/github/JavaUroz/ProyectoFinalPP/blob/main/Modelo_de_Datos.ipynb\" target=\"_parent\"><img src=\"https://colab.research.google.com/assets/colab-badge.svg\" alt=\"Open In Colab\"/></a>"
   ]
  },
  {
   "cell_type": "code",
   "execution_count": 34,
   "metadata": {
    "colab": {
     "base_uri": "https://localhost:8080/"
    },
    "id": "oKHd1ySnUvai",
    "outputId": "f06cf041-3408-4231-fe91-dcf882550e00"
   },
   "outputs": [],
   "source": [
    "# from google.colab import drive\n",
    "# drive.mount('/content/drive')"
   ]
  },
  {
   "cell_type": "code",
   "execution_count": 35,
   "metadata": {
    "id": "5bsV7HIlJzBB"
   },
   "outputs": [],
   "source": [
    "import pandas as pd\n",
    "import sqlite3\n",
    "from sqlalchemy import create_engine\n"
   ]
  },
  {
   "cell_type": "code",
   "execution_count": 36,
   "metadata": {
    "id": "n2xjf1NLPqb4"
   },
   "outputs": [],
   "source": [
    "# path = '/content/drive/MyDrive/Espacios curriculares vigentes/PRACTICAS PROFESIONALIZANTES  II-DS/Evaluaciones/Fuentes de datos/'\n",
    "path = 'Fuentes de datos/'\n",
    "# data = pd.read_csv(path+'DSS - Tablas de datos - Vehiculos.csv')\n",
    "data = pd.read_csv(path + 'DSS - Tablas de datos - Vehiculos.csv')"
   ]
  },
  {
   "cell_type": "code",
   "execution_count": 37,
   "metadata": {
    "colab": {
     "base_uri": "https://localhost:8080/",
     "height": 206
    },
    "id": "MIjAYoMlQvPs",
    "outputId": "cca59c26-8142-42b3-a3a1-8931f148bbb6"
   },
   "outputs": [
    {
     "data": {
      "text/html": [
       "<div>\n",
       "<style scoped>\n",
       "    .dataframe tbody tr th:only-of-type {\n",
       "        vertical-align: middle;\n",
       "    }\n",
       "\n",
       "    .dataframe tbody tr th {\n",
       "        vertical-align: top;\n",
       "    }\n",
       "\n",
       "    .dataframe thead th {\n",
       "        text-align: right;\n",
       "    }\n",
       "</style>\n",
       "<table border=\"1\" class=\"dataframe\">\n",
       "  <thead>\n",
       "    <tr style=\"text-align: right;\">\n",
       "      <th></th>\n",
       "      <th>Marca</th>\n",
       "      <th>Modelo</th>\n",
       "      <th>Version</th>\n",
       "      <th>TipoVehiculo</th>\n",
       "      <th>Combustible</th>\n",
       "      <th>Potencia</th>\n",
       "      <th>Transmisión</th>\n",
       "      <th>Cabina</th>\n",
       "      <th>Traccion</th>\n",
       "      <th>Potencia.1</th>\n",
       "      <th>Consumo</th>\n",
       "      <th>Seguridad</th>\n",
       "      <th>C</th>\n",
       "      <th>P</th>\n",
       "      <th>S</th>\n",
       "    </tr>\n",
       "  </thead>\n",
       "  <tbody>\n",
       "    <tr>\n",
       "      <th>0</th>\n",
       "      <td>Volkswagen</td>\n",
       "      <td>Polo</td>\n",
       "      <td>1.6 MSi Trendline Tiptronic (110cv) (L18) 5Ptas.</td>\n",
       "      <td>Sedan 5P</td>\n",
       "      <td>Nafta</td>\n",
       "      <td>110</td>\n",
       "      <td>Automática</td>\n",
       "      <td>NaN</td>\n",
       "      <td>4x2</td>\n",
       "      <td>MEDIO</td>\n",
       "      <td>MEDIO</td>\n",
       "      <td>ALTO</td>\n",
       "      <td>2</td>\n",
       "      <td>2</td>\n",
       "      <td>3</td>\n",
       "    </tr>\n",
       "    <tr>\n",
       "      <th>1</th>\n",
       "      <td>Volkswagen</td>\n",
       "      <td>Polo</td>\n",
       "      <td>1.6 MSi Comfortline MT (110cv) (L18) 5Ptas.</td>\n",
       "      <td>Sedan 5P</td>\n",
       "      <td>Nafta</td>\n",
       "      <td>110</td>\n",
       "      <td>Manual</td>\n",
       "      <td>NaN</td>\n",
       "      <td>4x2</td>\n",
       "      <td>MEDIO</td>\n",
       "      <td>MEDIO</td>\n",
       "      <td>ALTO</td>\n",
       "      <td>2</td>\n",
       "      <td>2</td>\n",
       "      <td>3</td>\n",
       "    </tr>\n",
       "    <tr>\n",
       "      <th>2</th>\n",
       "      <td>Volkswagen</td>\n",
       "      <td>Amarok</td>\n",
       "      <td>2.0 TDI (180cv) 4x2 C/Doble Comfortline (L17)</td>\n",
       "      <td>Camioneta</td>\n",
       "      <td>Diesel</td>\n",
       "      <td>180</td>\n",
       "      <td>Automática</td>\n",
       "      <td>Doble</td>\n",
       "      <td>4x2</td>\n",
       "      <td>ALTO</td>\n",
       "      <td>ALTO</td>\n",
       "      <td>MEDIO</td>\n",
       "      <td>3</td>\n",
       "      <td>3</td>\n",
       "      <td>2</td>\n",
       "    </tr>\n",
       "    <tr>\n",
       "      <th>3</th>\n",
       "      <td>Volkswagen</td>\n",
       "      <td>Amarok</td>\n",
       "      <td>2.0 TDI (180cv) 4x4 C/Doble Comfortline (L17)</td>\n",
       "      <td>Camioneta</td>\n",
       "      <td>Diesel</td>\n",
       "      <td>180</td>\n",
       "      <td>Automática</td>\n",
       "      <td>Doble</td>\n",
       "      <td>4x4</td>\n",
       "      <td>ALTO</td>\n",
       "      <td>ALTO</td>\n",
       "      <td>MEDIO</td>\n",
       "      <td>3</td>\n",
       "      <td>3</td>\n",
       "      <td>2</td>\n",
       "    </tr>\n",
       "    <tr>\n",
       "      <th>4</th>\n",
       "      <td>Volkswagen</td>\n",
       "      <td>Taos</td>\n",
       "      <td>Comfortline 250TSI Tiptronic (150cv)</td>\n",
       "      <td>SUV</td>\n",
       "      <td>Nafta</td>\n",
       "      <td>150</td>\n",
       "      <td>Automática</td>\n",
       "      <td>NaN</td>\n",
       "      <td>4x2</td>\n",
       "      <td>ALTO</td>\n",
       "      <td>ALTO</td>\n",
       "      <td>ALTO</td>\n",
       "      <td>3</td>\n",
       "      <td>3</td>\n",
       "      <td>3</td>\n",
       "    </tr>\n",
       "  </tbody>\n",
       "</table>\n",
       "</div>"
      ],
      "text/plain": [
       "        Marca  Modelo                                           Version  \\\n",
       "0  Volkswagen    Polo  1.6 MSi Trendline Tiptronic (110cv) (L18) 5Ptas.   \n",
       "1  Volkswagen    Polo       1.6 MSi Comfortline MT (110cv) (L18) 5Ptas.   \n",
       "2  Volkswagen  Amarok     2.0 TDI (180cv) 4x2 C/Doble Comfortline (L17)   \n",
       "3  Volkswagen  Amarok     2.0 TDI (180cv) 4x4 C/Doble Comfortline (L17)   \n",
       "4  Volkswagen    Taos              Comfortline 250TSI Tiptronic (150cv)   \n",
       "\n",
       "  TipoVehiculo Combustible  Potencia Transmisión Cabina Traccion Potencia.1  \\\n",
       "0     Sedan 5P       Nafta       110  Automática    NaN      4x2      MEDIO   \n",
       "1     Sedan 5P       Nafta       110      Manual    NaN      4x2      MEDIO   \n",
       "2    Camioneta      Diesel       180  Automática  Doble      4x2       ALTO   \n",
       "3    Camioneta      Diesel       180  Automática  Doble      4x4       ALTO   \n",
       "4          SUV       Nafta       150  Automática    NaN      4x2       ALTO   \n",
       "\n",
       "  Consumo Seguridad  C  P  S  \n",
       "0   MEDIO      ALTO  2  2  3  \n",
       "1   MEDIO      ALTO  2  2  3  \n",
       "2    ALTO     MEDIO  3  3  2  \n",
       "3    ALTO     MEDIO  3  3  2  \n",
       "4    ALTO      ALTO  3  3  3  "
      ]
     },
     "execution_count": 37,
     "metadata": {},
     "output_type": "execute_result"
    }
   ],
   "source": [
    "data.head()"
   ]
  },
  {
   "cell_type": "code",
   "execution_count": 38,
   "metadata": {
    "id": "bI3XbQs4Vx9d"
   },
   "outputs": [],
   "source": [
    "# Conexión con SQLAlchemy\n",
    "database = 'DSS.db'\n",
    "my_conn=create_engine('sqlite:///'+path+database)"
   ]
  },
  {
   "cell_type": "code",
   "execution_count": 39,
   "metadata": {
    "id": "07BEwEIQZgcI"
   },
   "outputs": [],
   "source": [
    "# Conexión con sqlite3\n",
    "#databaseB = 'DSS2.db'\n",
    "#my_conn = sqlite3.connect(path+databaseB)"
   ]
  },
  {
   "cell_type": "code",
   "execution_count": 40,
   "metadata": {
    "id": "fWVxEz6kQ1cy"
   },
   "outputs": [
    {
     "data": {
      "text/plain": [
       "38"
      ]
     },
     "execution_count": 40,
     "metadata": {},
     "output_type": "execute_result"
    }
   ],
   "source": [
    "data.to_sql('autos',my_conn,if_exists='replace',index=False)"
   ]
  },
  {
   "cell_type": "code",
   "execution_count": 41,
   "metadata": {
    "colab": {
     "base_uri": "https://localhost:8080/"
    },
    "id": "bRkEvezQaFvD",
    "outputId": "0e176262-ad76-4cf9-828d-1e5986375049"
   },
   "outputs": [
    {
     "name": "stdout",
     "output_type": "stream",
     "text": [
      "('autos',)\n"
     ]
    }
   ],
   "source": [
    "# Verificamos las tablas de la base de datos con la conexión SQLAlchemy\n",
    "r_set=my_conn.execute('''select name from sqlite_master \n",
    "\t\twhere type = 'table' ''')\n",
    "for row in r_set:\n",
    "    print(row)"
   ]
  },
  {
   "cell_type": "code",
   "execution_count": 42,
   "metadata": {
    "colab": {
     "base_uri": "https://localhost:8080/"
    },
    "id": "FSNsKvqcZ0wD",
    "outputId": "7625b7f4-5d63-4209-d53e-c08479b636cb"
   },
   "outputs": [
    {
     "name": "stdout",
     "output_type": "stream",
     "text": [
      "('Volkswagen', 'Polo', '1.6 MSi Trendline Tiptronic (110cv) (L18) 5Ptas.', 'Sedan 5P', 'Nafta', 110, 'Automática', None, '4x2', 'MEDIO', 'MEDIO', 'ALTO', 2, 2, 3)\n",
      "('Volkswagen', 'Polo', '1.6 MSi Comfortline MT (110cv) (L18) 5Ptas.', 'Sedan 5P', 'Nafta', 110, 'Manual', None, '4x2', 'MEDIO', 'MEDIO', 'ALTO', 2, 2, 3)\n",
      "('Volkswagen', 'Amarok', '2.0 TDI (180cv) 4x2 C/Doble Comfortline (L17)', 'Camioneta', 'Diesel', 180, 'Automática', 'Doble', '4x2', 'ALTO', 'ALTO', 'MEDIO', 3, 3, 2)\n",
      "('Volkswagen', 'Amarok', '2.0 TDI (180cv) 4x4 C/Doble Comfortline (L17)', 'Camioneta', 'Diesel', 180, 'Automática', 'Doble', '4x4', 'ALTO', 'ALTO', 'MEDIO', 3, 3, 2)\n",
      "('Volkswagen', 'Taos', 'Comfortline 250TSI Tiptronic (150cv)', 'SUV', 'Nafta', 150, 'Automática', None, '4x2', 'ALTO', 'ALTO', 'ALTO', 3, 3, 3)\n",
      "('Ford', 'ECOSPORT', '1.5 Se 123cv 4x2 Manual', 'SUV', 'Nafta', 123, 'Manual', None, '4x2', 'MEDIO', 'MEDIO', 'ALTO', 2, 2, 3)\n",
      "('Ford', 'Ranger', '2.2 TDCi C/Doble 4x2 XL 6MT (125cv) (L20)', 'Camioneta', 'Diesel', 125, 'Manual', 'Doble', '4x2', 'MEDIO', 'MEDIO', 'MEDIO', 2, 2, 2)\n",
      "('Ford', 'Ranger', '2.2 TDCi C/Simple 4x2 XL 6MT (125cv) (L20)', 'Camioneta', 'Diesel', 125, 'Manual', 'Simple', '4x2', 'MEDIO', 'MEDIO', 'MEDIO', 2, 2, 2)\n",
      "('Fiat', 'Mobi', '1.0 Like (75cv)', 'Sedan 5P', 'Nafta', 75, 'Manual', None, '4x2', 'BAJO', 'BAJO', 'BAJO', 1, 1, 1)\n",
      "('Fiat', 'Cronos', '1.3 GSE CVT Presicion (99cv)', 'Sedan 5P', 'Nafta', 99, 'Automática', None, '4x2', 'BAJO', 'BAJO', 'BAJO', 1, 1, 1)\n",
      "('Fiat', 'Pulse', '1.0T Impetus CVT (130cv)', 'Sedan 5P', 'Nafta', 130, 'Automática', None, '4x2', 'MEDIO', 'MEDIO', 'BAJO', 2, 2, 1)\n",
      "('Fiat', 'Toro', '1.8 Freedom 4x2 AT6 Cab/Doble (130cv) (L21)', 'Camioneta', 'Nafta', 130, 'Automática', None, '4x2', 'MEDIO', 'MEDIO', 'BAJO', 2, 2, 1)\n",
      "('Toyota', 'Corolla Cross', '2.0 XEI CVT', 'SUV', 'Nafta', 170, 'Automática', None, '4x4', 'ALTO', 'ALTO', 'ALTO', 3, 3, 3)\n",
      "('Toyota', 'Corolla Cross', 'HEV 1.8 SEG eCVT', 'SUV', 'Híbrido', 132, 'Automática', None, '4x2', 'MEDIO', 'BAJO', 'ALTO', 2, 1, 3)\n",
      "('Toyota', 'Corolla', '2.0 SEG CVT (170cv) (L20)', 'Sedan 5P', 'Nafta', 170, 'Automática', None, '4x2', 'ALTO', 'ALTO', 'ALTO', 3, 3, 3)\n",
      "('Toyota', 'Etios', '1.5 X 6MT (105cv) (L18) 4Ptas.', 'Sedan 5P', 'Nafta', 105, 'Manual', None, '4x2', 'MEDIO', 'MEDIO', 'MEDIO', 2, 2, 2)\n",
      "('Toyota', 'Hilux', '4x2 CD DX 2.4 TDI 6MT (150cv) (L20)', 'Camioneta', 'Diesel', 150, 'Manual', 'Doble', '4x2', 'ALTO', 'ALTO', 'ALTO', 3, 3, 3)\n",
      "('Toyota', 'Hilux', '4x4 CD DX 2.4 TDI 6MT (150cv) (L20)', 'Camioneta', 'Diesel', 150, 'Manual', 'Doble', '4x4', 'ALTO', 'ALTO', 'ALTO', 3, 3, 3)\n",
      "('Renault', 'Sandero', '2.3T Iconic AT 4x4 (190cv)', 'Camioneta', 'Diesel', 190, 'Automática', 'Doble', '4x4', 'ALTO', 'ALTO', 'ALTO', 3, 3, 3)\n",
      "('Renault', 'Captur', '1.6 16v CVT Intens 1 tono (115cv)', 'SUV', 'Nafta', 115, 'Automática', None, '4x2', 'MEDIO', 'MEDIO', 'MEDIO', 2, 2, 2)\n",
      "('Renault', 'KANGOO II', 'KANGOO EX. 1.5 DCI CONFORT 5 AS L/18', 'Utilitario', 'Nafta', 150, 'Manual', None, '4x2', 'ALTO', 'BAJO', 'MEDIO', 3, 1, 2)\n",
      "('Renault', 'ALASKAN', 'ALASKAN 2.3 TDI CONFORT 4X2', 'Camioneta', 'Diesel', 160, 'Manual', None, '4x2', 'ALTO', 'ALTO', 'ALTO', 3, 3, 3)\n",
      "('Renault', 'ALASKAN', 'ALASKAN 2.3 TDI ICONIC 4X4 AT', 'Camioneta', 'Diesel', 160, 'Automática', None, '4x4', 'ALTO', 'ALTO', 'ALTO', 3, 3, 3)\n",
      "('Chevrolet', 'TRACKER', 'TRACKER 1.2 TURBO MT5', 'SUV', 'Nafta', 120, 'Manual', None, '4x2', 'MEDIO', 'BAJO', 'ALTO', 2, 1, 3)\n",
      "('Chevrolet', 'ONIX', 'ONIX 1.0T PLUS LTZ L/21', 'Sedan 5P', 'Nafta', 98, 'Manual', None, '4x2', 'BAJO', 'BAJO', 'ALTO', 1, 1, 3)\n",
      "('Chevrolet', 'ONIX', 'ONIX 1.2 LS L/19', 'Sedan 5P', 'Nafta', 98, 'Manual', None, '4x2', 'BAJO', 'MEDIO', 'ALTO', 1, 2, 3)\n",
      "('Chevrolet', 'S10', '2.8 Ls Cd Tdci 200cv 4x2', 'Camioneta', 'Diesel', 200, 'Manual', 'Doble', '4x2', 'ALTO', 'ALTO', 'BAJO', 3, 3, 1)\n",
      "('Chevrolet', 'S10', '2.8 Lt Cd Tdci 200cv 4x4', 'Camioneta', 'Diesel', 200, 'Manual', 'Doble', '4x4', 'ALTO', 'ALTO', 'BAJO', 3, 3, 1)\n",
      "('Citroen', 'C5 AIRCROSS', 'C 5 1.6 THP AIRCROSS FEEL PACK', 'SUV', 'Nafta', 165, 'Automática', None, '4x2', 'ALTO', 'ALTO', 'ALTO', 3, 3, 3)\n",
      "('Citroen', 'C4 CACTUS', 'C4 Cactus 1.6 Vti 115 Feel', 'SUV', 'Nafta', 110, 'Automática', None, '4x2', 'MEDIO', 'BAJO', 'ALTO', 2, 1, 3)\n",
      "('Citroen', 'JUMPER', 'JUMPER 2.2 HDI MINIBUS 17+1 L4 H2', 'Utilitario', 'Diesel', 115, 'Manual', None, '4x2', 'MEDIO', 'ALTO', 'ALTO', 2, 3, 3)\n",
      "('Jeep', 'RENEGADE', 'Sport MT5', 'SUV', 'Nafta', 130, 'Manual', None, '4x2', 'MEDIO', 'ALTO', 'MEDIO', 2, 3, 2)\n",
      "('Ram', '1500', 'RAM 1500 LARAMIE', 'Camioneta', 'Nafta', 395, 'Automática', 'Doble', '4x4', 'ALTO', 'ALTO', 'ALTO', 3, 3, 3)\n",
      "('Peugeot', '208', '208 1.6 Active', 'Sedan 5P', 'Nafta', 115, 'Manual', None, '4x2', 'MEDIO', 'BAJO', 'ALTO', 2, 1, 3)\n",
      "('Peugeot', '208', '208 1.6 Allure', 'Sedan 5P', 'Nafta', 115, 'Manual', None, '4x2', 'MEDIO', 'BAJO', 'ALTO', 2, 1, 3)\n",
      "('Peugeot', '2008', '2008 1.6 FELINE TIPTRONIC L/22', 'SUV', 'Nafta', 115, 'Automática', None, '4x2', 'MEDIO', 'BAJO', 'ALTO', 2, 1, 3)\n",
      "('Peugeot', '3008', '3008 1.6 GT PACK TIPTRONIC L/21', 'SUV', 'Nafta', 165, 'Automática', None, '4x2', 'ALTO', 'BAJO', 'ALTO', 3, 1, 3)\n",
      "('Peugeot', 'EXPERT', 'EXPERT 1.6 HDI PREMIUM', 'Utilitario', 'Diesel', 115, 'Manual', None, '4x2', 'MEDIO', 'MEDIO', 'MEDIO', 2, 2, 2)\n"
     ]
    }
   ],
   "source": [
    "# Consultamos los registros de la tabla 'autos'\n",
    "r_set=my_conn.execute('''select * from autos ''')\n",
    "for row in r_set:\n",
    "    print(row)"
   ]
  },
  {
   "cell_type": "code",
   "execution_count": 43,
   "metadata": {
    "id": "t2s-8R33SD99"
   },
   "outputs": [],
   "source": [
    "# Consultamos los registros de la tabla auto con la conexion sqlite3\n",
    "#cur = my_conn.cursor()\n",
    "#for row in cur.execute('SELECT * FROM autos'): \n",
    "#    print(row) \n",
    "#my_conn.close() \n",
    "\n",
    "#"
   ]
  },
  {
   "cell_type": "code",
   "execution_count": 44,
   "metadata": {
    "colab": {
     "base_uri": "https://localhost:8080/",
     "height": 238
    },
    "id": "H4J6wMxGUsxO",
    "outputId": "ea68a68a-adbf-439e-9ca2-bb010ccc326a"
   },
   "outputs": [
    {
     "data": {
      "text/html": [
       "<div>\n",
       "<style scoped>\n",
       "    .dataframe tbody tr th:only-of-type {\n",
       "        vertical-align: middle;\n",
       "    }\n",
       "\n",
       "    .dataframe tbody tr th {\n",
       "        vertical-align: top;\n",
       "    }\n",
       "\n",
       "    .dataframe thead th {\n",
       "        text-align: right;\n",
       "    }\n",
       "</style>\n",
       "<table border=\"1\" class=\"dataframe\">\n",
       "  <thead>\n",
       "    <tr style=\"text-align: right;\">\n",
       "      <th></th>\n",
       "      <th>Version</th>\n",
       "      <th>Moneda</th>\n",
       "      <th>Precio</th>\n",
       "    </tr>\n",
       "  </thead>\n",
       "  <tbody>\n",
       "    <tr>\n",
       "      <th>0</th>\n",
       "      <td>1.6 MSi Trendline Tiptronic (110cv) (L18) 5Ptas.</td>\n",
       "      <td>$</td>\n",
       "      <td>4322.7</td>\n",
       "    </tr>\n",
       "    <tr>\n",
       "      <th>1</th>\n",
       "      <td>2.0 TDI (180cv) 4x2 C/Doble Comfortline (L17)</td>\n",
       "      <td>$</td>\n",
       "      <td>7511.3</td>\n",
       "    </tr>\n",
       "    <tr>\n",
       "      <th>2</th>\n",
       "      <td>2.0 TDI (180cv) 4x4 C/Doble Comfortline (L17)</td>\n",
       "      <td>$</td>\n",
       "      <td>8873.8</td>\n",
       "    </tr>\n",
       "    <tr>\n",
       "      <th>3</th>\n",
       "      <td>Comfortline 250TSI Tiptronic (150cv)</td>\n",
       "      <td>$</td>\n",
       "      <td>7421.5</td>\n",
       "    </tr>\n",
       "    <tr>\n",
       "      <th>4</th>\n",
       "      <td>1.5 SE MT (123cv) (L18)</td>\n",
       "      <td>$</td>\n",
       "      <td>4088.0</td>\n",
       "    </tr>\n",
       "  </tbody>\n",
       "</table>\n",
       "</div>"
      ],
      "text/plain": [
       "                                            Version Moneda  Precio\n",
       "0  1.6 MSi Trendline Tiptronic (110cv) (L18) 5Ptas.      $  4322.7\n",
       "1     2.0 TDI (180cv) 4x2 C/Doble Comfortline (L17)      $  7511.3\n",
       "2     2.0 TDI (180cv) 4x4 C/Doble Comfortline (L17)      $  8873.8\n",
       "3              Comfortline 250TSI Tiptronic (150cv)      $  7421.5\n",
       "4                           1.5 SE MT (123cv) (L18)      $  4088.0"
      ]
     },
     "execution_count": 44,
     "metadata": {},
     "output_type": "execute_result"
    }
   ],
   "source": [
    "precios = pd.read_csv(path+'DSS - Tablas de datos - Precios_Automatizado.csv')\n",
    "precios.head()"
   ]
  },
  {
   "cell_type": "code",
   "execution_count": 45,
   "metadata": {
    "id": "LaBFSYWGpO2g"
   },
   "outputs": [
    {
     "data": {
      "text/plain": [
       "37"
      ]
     },
     "execution_count": 45,
     "metadata": {},
     "output_type": "execute_result"
    }
   ],
   "source": [
    "precios.to_sql('precios',my_conn,if_exists='replace',index=False)"
   ]
  },
  {
   "cell_type": "code",
   "execution_count": 46,
   "metadata": {},
   "outputs": [
    {
     "name": "stdout",
     "output_type": "stream",
     "text": [
      "('autos',)\n",
      "('precios',)\n"
     ]
    }
   ],
   "source": [
    "# Verificamos las tablas de la base de datos con la conexión SQLAlchemy\n",
    "r_set=my_conn.execute('''select name from sqlite_master \n",
    "\t\twhere type = 'table' ''')\n",
    "for row in r_set:\n",
    "    print(row)"
   ]
  },
  {
   "cell_type": "code",
   "execution_count": 47,
   "metadata": {},
   "outputs": [
    {
     "name": "stdout",
     "output_type": "stream",
     "text": [
      "('1.6 MSi Trendline Tiptronic (110cv) (L18) 5Ptas.', '$', 4322.7)\n",
      "('2.0 TDI (180cv) 4x2 C/Doble Comfortline (L17)', '$', 7511.3)\n",
      "('2.0 TDI (180cv) 4x4 C/Doble Comfortline (L17)', '$', 8873.8)\n",
      "('Comfortline 250TSI Tiptronic (150cv)', '$', 7421.5)\n",
      "('1.5 SE MT (123cv) (L18)', '$', 4088.0)\n",
      "('2.2 TDCi C/Doble 4x2 XL 6MT (125cv) (L20)', '$', 6383.0)\n",
      "('2.2 TDCi C/Simple 4x2 XL 6MT (125cv) (L20)', '$', 6243.0)\n",
      "('1.0 Like (75cv)', '$', 2742.5)\n",
      "('1.3 GSE CVT Presicion (99cv)', '$', 3911.5)\n",
      "('1.0T Impetus CVT (130cv)', '$', 4219.3)\n",
      "('1.8 Freedom 4x2 AT6 Cab/Doble (130cv) (L21)', '$', 5653.6)\n",
      "('2.0 XEI CVT', '$', 6622.0)\n",
      "('HEV 1.8 SEG eCVT', '$', 7868.0)\n",
      "('2.0 SEG CVT (170cv) (L20)', '$', 6251.0)\n",
      "('1.5 X 6MT (105cv) (L18) 4Ptas.', '$', 2793.0)\n",
      "('4x2 CD DX 2.4 TDI 6MT (150cv) (L20)', '$', 6097.0)\n",
      "('4x4 CD DX 2.4 TDI 6MT (150cv) (L20)', '$', 7116.0)\n",
      "('2.3T Iconic AT 4x4 (190cv)', '$', 10774.2)\n",
      "('1.6 16v Intense', '$', 3900.0)\n",
      "('KANGOO EX. 1.5 DCI CONFORT 5 AS L/18', '$', 4121.0)\n",
      "('ALASKAN 2.3 TDI CONFORT 4X2', '$', 6373.0)\n",
      "('ALASKAN 2.3 TDI ICONIC 4X4 AT', '$', 10444.0)\n",
      "('TRACKER 1.2 TURBO MT5', '$', 6500.0)\n",
      "('ONIX 1.0T PLUS LTZ L/21', '$', 3990.0)\n",
      "('ONIX 1.2 LS L/19', '$', 4073.0)\n",
      "('S10 2.8 Ls Cd Tdci 200cv 4x2', '$', 6999.0)\n",
      "('S10 2.8 Lt Cd Tdci 200cv 4x4', '$', 10400.0)\n",
      "('C5 1.6 THP AIRCROSS FEEL PACK', '$', 10275.0)\n",
      "('C4 Cactus 1.6 Vti 115 Feel', '$', 5300.0)\n",
      "('JUMPER 2.2 HDI MINIBUS 17+1 L4 H2', '$', 12900.0)\n",
      "('Sport MT5', '$', 7256.0)\n",
      "('RAM 1500 LARAMIE', '$', 18880.0)\n",
      "('208 L/20 1.2 T GT', '$', 8984.0)\n",
      "('208 L/20 1.6 ALLURE', '$', 5200.0)\n",
      "('2008 1.6 FELINE TIPTRONIC L/22', '$', 6058.0)\n",
      "('3008 1.6 GT PACK TIPTRONIC L/21', '$', 14490.0)\n",
      "('EXPERT 1.6 HDI PREMIUM', '$', 8200.0)\n"
     ]
    }
   ],
   "source": [
    "# Consultamos los registros de la tabla 'autos'\n",
    "r_set=my_conn.execute('''select * from precios ''')\n",
    "for row in r_set:\n",
    "    print(row)"
   ]
  }
 ],
 "metadata": {
  "colab": {
   "include_colab_link": true,
   "provenance": []
  },
  "kernelspec": {
   "display_name": "Python 3.9.13 ('Streamlit')",
   "language": "python",
   "name": "python3"
  },
  "language_info": {
   "codemirror_mode": {
    "name": "ipython",
    "version": 3
   },
   "file_extension": ".py",
   "mimetype": "text/x-python",
   "name": "python",
   "nbconvert_exporter": "python",
   "pygments_lexer": "ipython3",
   "version": "3.9.13"
  },
  "vscode": {
   "interpreter": {
    "hash": "5110318bf20d6abbe527c0f99fb8526968a11634a9bfa2dc684fd9e5e39d071f"
   }
  }
 },
 "nbformat": 4,
 "nbformat_minor": 4
}
