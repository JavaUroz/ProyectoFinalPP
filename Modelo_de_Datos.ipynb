{
 "cells": [
  {
   "cell_type": "markdown",
   "metadata": {
    "colab_type": "text",
    "id": "view-in-github"
   },
   "source": [
    "<a href=\"https://colab.research.google.com/github/JavaUroz/ProyectoFinalPP/blob/main/Modelo_de_Datos.ipynb\" target=\"_parent\"><img src=\"https://colab.research.google.com/assets/colab-badge.svg\" alt=\"Open In Colab\"/></a>"
   ]
  },
  {
   "cell_type": "code",
   "execution_count": 1,
   "metadata": {
    "colab": {
     "base_uri": "https://localhost:8080/"
    },
    "id": "oKHd1ySnUvai",
    "outputId": "f06cf041-3408-4231-fe91-dcf882550e00"
   },
   "outputs": [
    {
     "ename": "ModuleNotFoundError",
     "evalue": "No module named 'google.colab'",
     "output_type": "error",
     "traceback": [
      "\u001b[1;31m---------------------------------------------------------------------------\u001b[0m",
      "\u001b[1;31mModuleNotFoundError\u001b[0m                       Traceback (most recent call last)",
      "Input \u001b[1;32mIn [1]\u001b[0m, in \u001b[0;36m<cell line: 1>\u001b[1;34m()\u001b[0m\n\u001b[1;32m----> 1\u001b[0m \u001b[38;5;28;01mfrom\u001b[39;00m \u001b[38;5;21;01mgoogle\u001b[39;00m\u001b[38;5;21;01m.\u001b[39;00m\u001b[38;5;21;01mcolab\u001b[39;00m \u001b[38;5;28;01mimport\u001b[39;00m drive\n\u001b[0;32m      2\u001b[0m drive\u001b[38;5;241m.\u001b[39mmount(\u001b[38;5;124m'\u001b[39m\u001b[38;5;124m/content/drive\u001b[39m\u001b[38;5;124m'\u001b[39m)\n",
      "\u001b[1;31mModuleNotFoundError\u001b[0m: No module named 'google.colab'"
     ]
    }
   ],
   "source": [
    "from google.colab import drive\n",
    "drive.mount('/content/drive')"
   ]
  },
  {
   "cell_type": "code",
   "execution_count": null,
   "metadata": {
    "id": "5bsV7HIlJzBB"
   },
   "outputs": [],
   "source": [
    "import pandas as pd\n",
    "import sqlite3\n",
    "from sqlalchemy import create_engine\n"
   ]
  },
  {
   "cell_type": "code",
   "execution_count": null,
   "metadata": {
    "id": "n2xjf1NLPqb4"
   },
   "outputs": [],
   "source": [
    "path = '/content/drive/MyDrive/Espacios curriculares vigentes/PRACTICAS PROFESIONALIZANTES  II-DS/Evaluaciones/Fuentes de datos/'\n",
    "data = pd.read_csv(path+'DSS - Tablas de datos - Vehiculos.csv')"
   ]
  },
  {
   "cell_type": "code",
   "execution_count": null,
   "metadata": {
    "colab": {
     "base_uri": "https://localhost:8080/",
     "height": 206
    },
    "id": "MIjAYoMlQvPs",
    "outputId": "cca59c26-8142-42b3-a3a1-8931f148bbb6"
   },
   "outputs": [
    {
     "data": {
      "text/html": [
       "\n",
       "  <div id=\"df-4ff126bf-ae39-425e-9118-5de6c1b11aff\">\n",
       "    <div class=\"colab-df-container\">\n",
       "      <div>\n",
       "<style scoped>\n",
       "    .dataframe tbody tr th:only-of-type {\n",
       "        vertical-align: middle;\n",
       "    }\n",
       "\n",
       "    .dataframe tbody tr th {\n",
       "        vertical-align: top;\n",
       "    }\n",
       "\n",
       "    .dataframe thead th {\n",
       "        text-align: right;\n",
       "    }\n",
       "</style>\n",
       "<table border=\"1\" class=\"dataframe\">\n",
       "  <thead>\n",
       "    <tr style=\"text-align: right;\">\n",
       "      <th></th>\n",
       "      <th>Marca</th>\n",
       "      <th>Modelo</th>\n",
       "      <th>Version</th>\n",
       "      <th>TipoVehiculo</th>\n",
       "      <th>Combustible</th>\n",
       "      <th>Potencia</th>\n",
       "      <th>Transmisión</th>\n",
       "      <th>Cabina</th>\n",
       "      <th>Traccion</th>\n",
       "    </tr>\n",
       "  </thead>\n",
       "  <tbody>\n",
       "    <tr>\n",
       "      <th>0</th>\n",
       "      <td>Volskwagen</td>\n",
       "      <td>Polo</td>\n",
       "      <td>1.6 MSi Trendline Tiptronic (110cv) (L18) 5Ptas.</td>\n",
       "      <td>Sedan 5P</td>\n",
       "      <td>Nafta</td>\n",
       "      <td>110</td>\n",
       "      <td>Automática</td>\n",
       "      <td>NaN</td>\n",
       "      <td>4x2</td>\n",
       "    </tr>\n",
       "    <tr>\n",
       "      <th>1</th>\n",
       "      <td>Volskwagen</td>\n",
       "      <td>Polo</td>\n",
       "      <td>1.6 MSi Comfortline MT (110cv) (L18) 5Ptas.</td>\n",
       "      <td>Sedan 5P</td>\n",
       "      <td>Nafta</td>\n",
       "      <td>110</td>\n",
       "      <td>Manual</td>\n",
       "      <td>NaN</td>\n",
       "      <td>4x2</td>\n",
       "    </tr>\n",
       "    <tr>\n",
       "      <th>2</th>\n",
       "      <td>Volskwagen</td>\n",
       "      <td>Amarok</td>\n",
       "      <td>2.0 TDI (180cv) 4x2 C/Doble Comfortline (L17)</td>\n",
       "      <td>Camioneta</td>\n",
       "      <td>Diesel</td>\n",
       "      <td>180</td>\n",
       "      <td>Automática</td>\n",
       "      <td>Doble</td>\n",
       "      <td>4x2</td>\n",
       "    </tr>\n",
       "    <tr>\n",
       "      <th>3</th>\n",
       "      <td>Volskwagen</td>\n",
       "      <td>Amarok</td>\n",
       "      <td>2.0 TDI (180cv) 4x4 C/Doble Comfortline (L17)</td>\n",
       "      <td>Camioneta</td>\n",
       "      <td>Diesel</td>\n",
       "      <td>180</td>\n",
       "      <td>Automática</td>\n",
       "      <td>Doble</td>\n",
       "      <td>4x4</td>\n",
       "    </tr>\n",
       "    <tr>\n",
       "      <th>4</th>\n",
       "      <td>Volskwagen</td>\n",
       "      <td>Taos</td>\n",
       "      <td>Comfortline 250TSI Tiptronic (150cv)</td>\n",
       "      <td>SUV</td>\n",
       "      <td>Nafta</td>\n",
       "      <td>150</td>\n",
       "      <td>Automática</td>\n",
       "      <td>NaN</td>\n",
       "      <td>4x2</td>\n",
       "    </tr>\n",
       "  </tbody>\n",
       "</table>\n",
       "</div>\n",
       "      <button class=\"colab-df-convert\" onclick=\"convertToInteractive('df-4ff126bf-ae39-425e-9118-5de6c1b11aff')\"\n",
       "              title=\"Convert this dataframe to an interactive table.\"\n",
       "              style=\"display:none;\">\n",
       "        \n",
       "  <svg xmlns=\"http://www.w3.org/2000/svg\" height=\"24px\"viewBox=\"0 0 24 24\"\n",
       "       width=\"24px\">\n",
       "    <path d=\"M0 0h24v24H0V0z\" fill=\"none\"/>\n",
       "    <path d=\"M18.56 5.44l.94 2.06.94-2.06 2.06-.94-2.06-.94-.94-2.06-.94 2.06-2.06.94zm-11 1L8.5 8.5l.94-2.06 2.06-.94-2.06-.94L8.5 2.5l-.94 2.06-2.06.94zm10 10l.94 2.06.94-2.06 2.06-.94-2.06-.94-.94-2.06-.94 2.06-2.06.94z\"/><path d=\"M17.41 7.96l-1.37-1.37c-.4-.4-.92-.59-1.43-.59-.52 0-1.04.2-1.43.59L10.3 9.45l-7.72 7.72c-.78.78-.78 2.05 0 2.83L4 21.41c.39.39.9.59 1.41.59.51 0 1.02-.2 1.41-.59l7.78-7.78 2.81-2.81c.8-.78.8-2.07 0-2.86zM5.41 20L4 18.59l7.72-7.72 1.47 1.35L5.41 20z\"/>\n",
       "  </svg>\n",
       "      </button>\n",
       "      \n",
       "  <style>\n",
       "    .colab-df-container {\n",
       "      display:flex;\n",
       "      flex-wrap:wrap;\n",
       "      gap: 12px;\n",
       "    }\n",
       "\n",
       "    .colab-df-convert {\n",
       "      background-color: #E8F0FE;\n",
       "      border: none;\n",
       "      border-radius: 50%;\n",
       "      cursor: pointer;\n",
       "      display: none;\n",
       "      fill: #1967D2;\n",
       "      height: 32px;\n",
       "      padding: 0 0 0 0;\n",
       "      width: 32px;\n",
       "    }\n",
       "\n",
       "    .colab-df-convert:hover {\n",
       "      background-color: #E2EBFA;\n",
       "      box-shadow: 0px 1px 2px rgba(60, 64, 67, 0.3), 0px 1px 3px 1px rgba(60, 64, 67, 0.15);\n",
       "      fill: #174EA6;\n",
       "    }\n",
       "\n",
       "    [theme=dark] .colab-df-convert {\n",
       "      background-color: #3B4455;\n",
       "      fill: #D2E3FC;\n",
       "    }\n",
       "\n",
       "    [theme=dark] .colab-df-convert:hover {\n",
       "      background-color: #434B5C;\n",
       "      box-shadow: 0px 1px 3px 1px rgba(0, 0, 0, 0.15);\n",
       "      filter: drop-shadow(0px 1px 2px rgba(0, 0, 0, 0.3));\n",
       "      fill: #FFFFFF;\n",
       "    }\n",
       "  </style>\n",
       "\n",
       "      <script>\n",
       "        const buttonEl =\n",
       "          document.querySelector('#df-4ff126bf-ae39-425e-9118-5de6c1b11aff button.colab-df-convert');\n",
       "        buttonEl.style.display =\n",
       "          google.colab.kernel.accessAllowed ? 'block' : 'none';\n",
       "\n",
       "        async function convertToInteractive(key) {\n",
       "          const element = document.querySelector('#df-4ff126bf-ae39-425e-9118-5de6c1b11aff');\n",
       "          const dataTable =\n",
       "            await google.colab.kernel.invokeFunction('convertToInteractive',\n",
       "                                                     [key], {});\n",
       "          if (!dataTable) return;\n",
       "\n",
       "          const docLinkHtml = 'Like what you see? Visit the ' +\n",
       "            '<a target=\"_blank\" href=https://colab.research.google.com/notebooks/data_table.ipynb>data table notebook</a>'\n",
       "            + ' to learn more about interactive tables.';\n",
       "          element.innerHTML = '';\n",
       "          dataTable['output_type'] = 'display_data';\n",
       "          await google.colab.output.renderOutput(dataTable, element);\n",
       "          const docLink = document.createElement('div');\n",
       "          docLink.innerHTML = docLinkHtml;\n",
       "          element.appendChild(docLink);\n",
       "        }\n",
       "      </script>\n",
       "    </div>\n",
       "  </div>\n",
       "  "
      ],
      "text/plain": [
       "        Marca  Modelo                                           Version  \\\n",
       "0  Volskwagen    Polo  1.6 MSi Trendline Tiptronic (110cv) (L18) 5Ptas.   \n",
       "1  Volskwagen    Polo       1.6 MSi Comfortline MT (110cv) (L18) 5Ptas.   \n",
       "2  Volskwagen  Amarok     2.0 TDI (180cv) 4x2 C/Doble Comfortline (L17)   \n",
       "3  Volskwagen  Amarok     2.0 TDI (180cv) 4x4 C/Doble Comfortline (L17)   \n",
       "4  Volskwagen    Taos              Comfortline 250TSI Tiptronic (150cv)   \n",
       "\n",
       "  TipoVehiculo Combustible  Potencia Transmisión Cabina Traccion  \n",
       "0     Sedan 5P       Nafta       110  Automática    NaN      4x2  \n",
       "1     Sedan 5P       Nafta       110      Manual    NaN      4x2  \n",
       "2    Camioneta      Diesel       180  Automática  Doble      4x2  \n",
       "3    Camioneta      Diesel       180  Automática  Doble      4x4  \n",
       "4          SUV       Nafta       150  Automática    NaN      4x2  "
      ]
     },
     "execution_count": 6,
     "metadata": {},
     "output_type": "execute_result"
    }
   ],
   "source": [
    "data.head()"
   ]
  },
  {
   "cell_type": "code",
   "execution_count": null,
   "metadata": {
    "id": "bI3XbQs4Vx9d"
   },
   "outputs": [],
   "source": [
    "# Conexión con SQLAlchemy\n",
    "database = 'DSS.db'\n",
    "my_conn=create_engine('sqlite:///'+path+database)"
   ]
  },
  {
   "cell_type": "code",
   "execution_count": null,
   "metadata": {
    "id": "07BEwEIQZgcI"
   },
   "outputs": [],
   "source": [
    "# Conexión con sqlite3\n",
    "#databaseB = 'DSS2.db'\n",
    "#my_conn = sqlite3.connect(path+databaseB)"
   ]
  },
  {
   "cell_type": "code",
   "execution_count": null,
   "metadata": {
    "id": "fWVxEz6kQ1cy"
   },
   "outputs": [],
   "source": [
    "data.to_sql('autos',my_conn,if_exists='replace',index=False)"
   ]
  },
  {
   "cell_type": "code",
   "execution_count": null,
   "metadata": {
    "colab": {
     "base_uri": "https://localhost:8080/"
    },
    "id": "bRkEvezQaFvD",
    "outputId": "0e176262-ad76-4cf9-828d-1e5986375049"
   },
   "outputs": [
    {
     "name": "stdout",
     "output_type": "stream",
     "text": [
      "('autos',)\n"
     ]
    }
   ],
   "source": [
    "# Verificamos las tablas de la base de datos con la conexión SQLAlchemy\n",
    "r_set=my_conn.execute('''select name from sqlite_master \n",
    "\t\twhere type = 'table' ''')\n",
    "for row in r_set:\n",
    "    print(row)"
   ]
  },
  {
   "cell_type": "code",
   "execution_count": null,
   "metadata": {
    "colab": {
     "base_uri": "https://localhost:8080/"
    },
    "id": "FSNsKvqcZ0wD",
    "outputId": "7625b7f4-5d63-4209-d53e-c08479b636cb"
   },
   "outputs": [
    {
     "name": "stdout",
     "output_type": "stream",
     "text": [
      "('Volskwagen', 'Polo', '1.6 MSi Trendline Tiptronic (110cv) (L18) 5Ptas.', 'Sedan 5P', 'Nafta', 110, 'Automática', None, '4x2')\n",
      "('Volskwagen', 'Polo', '1.6 MSi Comfortline MT (110cv) (L18) 5Ptas.', 'Sedan 5P', 'Nafta', 110, 'Manual', None, '4x2')\n",
      "('Volskwagen', 'Amarok', '2.0 TDI (180cv) 4x2 C/Doble Comfortline (L17)', 'Camioneta', 'Diesel', 180, 'Automática', 'Doble', '4x2')\n",
      "('Volskwagen', 'Amarok', '2.0 TDI (180cv) 4x4 C/Doble Comfortline (L17)', 'Camioneta', 'Diesel', 180, 'Automática', 'Doble', '4x4')\n",
      "('Volskwagen', 'Taos', 'Comfortline 250TSI Tiptronic (150cv)', 'SUV', 'Nafta', 150, 'Automática', None, '4x2')\n"
     ]
    }
   ],
   "source": [
    "# Consultamos los registros de la tabla 'autos'\n",
    "r_set=my_conn.execute('''select * from autos ''')\n",
    "for row in r_set:\n",
    "    print(row)"
   ]
  },
  {
   "cell_type": "code",
   "execution_count": null,
   "metadata": {
    "id": "t2s-8R33SD99"
   },
   "outputs": [],
   "source": [
    "# Consultamos los registros de la tabla auto con la conexion sqlite3\n",
    "#cur = my_conn.cursor()\n",
    "#for row in cur.execute('SELECT * FROM autos'): \n",
    "#    print(row) \n",
    "#my_conn.close() \n",
    "\n",
    "#"
   ]
  },
  {
   "cell_type": "code",
   "execution_count": null,
   "metadata": {
    "colab": {
     "base_uri": "https://localhost:8080/",
     "height": 238
    },
    "id": "H4J6wMxGUsxO",
    "outputId": "ea68a68a-adbf-439e-9ca2-bb010ccc326a"
   },
   "outputs": [
    {
     "data": {
      "text/html": [
       "\n",
       "  <div id=\"df-e36e7ed6-dae5-4c2c-9e28-67e56eccd1b4\">\n",
       "    <div class=\"colab-df-container\">\n",
       "      <div>\n",
       "<style scoped>\n",
       "    .dataframe tbody tr th:only-of-type {\n",
       "        vertical-align: middle;\n",
       "    }\n",
       "\n",
       "    .dataframe tbody tr th {\n",
       "        vertical-align: top;\n",
       "    }\n",
       "\n",
       "    .dataframe thead th {\n",
       "        text-align: right;\n",
       "    }\n",
       "</style>\n",
       "<table border=\"1\" class=\"dataframe\">\n",
       "  <thead>\n",
       "    <tr style=\"text-align: right;\">\n",
       "      <th></th>\n",
       "      <th>Marca</th>\n",
       "      <th>Modelo</th>\n",
       "      <th>Versión</th>\n",
       "      <th>Moneda</th>\n",
       "      <th>0</th>\n",
       "      <th>-1</th>\n",
       "      <th>-2</th>\n",
       "      <th>-3</th>\n",
       "      <th>-4</th>\n",
       "    </tr>\n",
       "  </thead>\n",
       "  <tbody>\n",
       "    <tr>\n",
       "      <th>0</th>\n",
       "      <td>Volskwagen</td>\n",
       "      <td>Polo</td>\n",
       "      <td>1.6 MSi Trendline Tiptronic (110cv) (L18) 5Ptas.</td>\n",
       "      <td>$</td>\n",
       "      <td>4.322,70</td>\n",
       "      <td>3.439,80</td>\n",
       "      <td>3.221,10</td>\n",
       "      <td>3.007,60</td>\n",
       "      <td>2.799,30</td>\n",
       "    </tr>\n",
       "    <tr>\n",
       "      <th>1</th>\n",
       "      <td>Volskwagen</td>\n",
       "      <td>Polo</td>\n",
       "      <td>1.6 MSi Trend MT (110cv) (L18) 5Ptas.</td>\n",
       "      <td>$</td>\n",
       "      <td>3.377,50</td>\n",
       "      <td>-</td>\n",
       "      <td>-</td>\n",
       "      <td>-</td>\n",
       "      <td>-</td>\n",
       "    </tr>\n",
       "    <tr>\n",
       "      <th>2</th>\n",
       "      <td>Volskwagen</td>\n",
       "      <td>Polo</td>\n",
       "      <td>1.6 MSi Comfortline MT (110cv) (L18) 5Ptas.</td>\n",
       "      <td>$</td>\n",
       "      <td>-</td>\n",
       "      <td>3.439,80</td>\n",
       "      <td>3.221,10</td>\n",
       "      <td>3.007,60</td>\n",
       "      <td>2.799,30</td>\n",
       "    </tr>\n",
       "    <tr>\n",
       "      <th>3</th>\n",
       "      <td>Volskwagen</td>\n",
       "      <td>Amarok</td>\n",
       "      <td>2.0 TDI (180cv) 4x2 C/Doble Comfortline (L17)</td>\n",
       "      <td>$</td>\n",
       "      <td>7.511,30</td>\n",
       "      <td>6.076,90</td>\n",
       "      <td>5.707,60</td>\n",
       "      <td>5.346,90</td>\n",
       "      <td>4.994,80</td>\n",
       "    </tr>\n",
       "    <tr>\n",
       "      <th>4</th>\n",
       "      <td>Volskwagen</td>\n",
       "      <td>Amarok</td>\n",
       "      <td>2.0 TDI (180cv) 4x4 C/Doble Comfortline (L17)</td>\n",
       "      <td>$</td>\n",
       "      <td>8.873,80</td>\n",
       "      <td>7.166,20</td>\n",
       "      <td>6.724,80</td>\n",
       "      <td>6.293,70</td>\n",
       "      <td>5.873,00</td>\n",
       "    </tr>\n",
       "    <tr>\n",
       "      <th>5</th>\n",
       "      <td>Volskwagen</td>\n",
       "      <td>Taos</td>\n",
       "      <td>Comfortline 250TSI Tiptronic (150cv)</td>\n",
       "      <td>$</td>\n",
       "      <td>7.421,50</td>\n",
       "      <td>6.306,30</td>\n",
       "      <td>-</td>\n",
       "      <td>-</td>\n",
       "      <td>-</td>\n",
       "    </tr>\n",
       "  </tbody>\n",
       "</table>\n",
       "</div>\n",
       "      <button class=\"colab-df-convert\" onclick=\"convertToInteractive('df-e36e7ed6-dae5-4c2c-9e28-67e56eccd1b4')\"\n",
       "              title=\"Convert this dataframe to an interactive table.\"\n",
       "              style=\"display:none;\">\n",
       "        \n",
       "  <svg xmlns=\"http://www.w3.org/2000/svg\" height=\"24px\"viewBox=\"0 0 24 24\"\n",
       "       width=\"24px\">\n",
       "    <path d=\"M0 0h24v24H0V0z\" fill=\"none\"/>\n",
       "    <path d=\"M18.56 5.44l.94 2.06.94-2.06 2.06-.94-2.06-.94-.94-2.06-.94 2.06-2.06.94zm-11 1L8.5 8.5l.94-2.06 2.06-.94-2.06-.94L8.5 2.5l-.94 2.06-2.06.94zm10 10l.94 2.06.94-2.06 2.06-.94-2.06-.94-.94-2.06-.94 2.06-2.06.94z\"/><path d=\"M17.41 7.96l-1.37-1.37c-.4-.4-.92-.59-1.43-.59-.52 0-1.04.2-1.43.59L10.3 9.45l-7.72 7.72c-.78.78-.78 2.05 0 2.83L4 21.41c.39.39.9.59 1.41.59.51 0 1.02-.2 1.41-.59l7.78-7.78 2.81-2.81c.8-.78.8-2.07 0-2.86zM5.41 20L4 18.59l7.72-7.72 1.47 1.35L5.41 20z\"/>\n",
       "  </svg>\n",
       "      </button>\n",
       "      \n",
       "  <style>\n",
       "    .colab-df-container {\n",
       "      display:flex;\n",
       "      flex-wrap:wrap;\n",
       "      gap: 12px;\n",
       "    }\n",
       "\n",
       "    .colab-df-convert {\n",
       "      background-color: #E8F0FE;\n",
       "      border: none;\n",
       "      border-radius: 50%;\n",
       "      cursor: pointer;\n",
       "      display: none;\n",
       "      fill: #1967D2;\n",
       "      height: 32px;\n",
       "      padding: 0 0 0 0;\n",
       "      width: 32px;\n",
       "    }\n",
       "\n",
       "    .colab-df-convert:hover {\n",
       "      background-color: #E2EBFA;\n",
       "      box-shadow: 0px 1px 2px rgba(60, 64, 67, 0.3), 0px 1px 3px 1px rgba(60, 64, 67, 0.15);\n",
       "      fill: #174EA6;\n",
       "    }\n",
       "\n",
       "    [theme=dark] .colab-df-convert {\n",
       "      background-color: #3B4455;\n",
       "      fill: #D2E3FC;\n",
       "    }\n",
       "\n",
       "    [theme=dark] .colab-df-convert:hover {\n",
       "      background-color: #434B5C;\n",
       "      box-shadow: 0px 1px 3px 1px rgba(0, 0, 0, 0.15);\n",
       "      filter: drop-shadow(0px 1px 2px rgba(0, 0, 0, 0.3));\n",
       "      fill: #FFFFFF;\n",
       "    }\n",
       "  </style>\n",
       "\n",
       "      <script>\n",
       "        const buttonEl =\n",
       "          document.querySelector('#df-e36e7ed6-dae5-4c2c-9e28-67e56eccd1b4 button.colab-df-convert');\n",
       "        buttonEl.style.display =\n",
       "          google.colab.kernel.accessAllowed ? 'block' : 'none';\n",
       "\n",
       "        async function convertToInteractive(key) {\n",
       "          const element = document.querySelector('#df-e36e7ed6-dae5-4c2c-9e28-67e56eccd1b4');\n",
       "          const dataTable =\n",
       "            await google.colab.kernel.invokeFunction('convertToInteractive',\n",
       "                                                     [key], {});\n",
       "          if (!dataTable) return;\n",
       "\n",
       "          const docLinkHtml = 'Like what you see? Visit the ' +\n",
       "            '<a target=\"_blank\" href=https://colab.research.google.com/notebooks/data_table.ipynb>data table notebook</a>'\n",
       "            + ' to learn more about interactive tables.';\n",
       "          element.innerHTML = '';\n",
       "          dataTable['output_type'] = 'display_data';\n",
       "          await google.colab.output.renderOutput(dataTable, element);\n",
       "          const docLink = document.createElement('div');\n",
       "          docLink.innerHTML = docLinkHtml;\n",
       "          element.appendChild(docLink);\n",
       "        }\n",
       "      </script>\n",
       "    </div>\n",
       "  </div>\n",
       "  "
      ],
      "text/plain": [
       "        Marca  Modelo                                           Versión  \\\n",
       "0  Volskwagen    Polo  1.6 MSi Trendline Tiptronic (110cv) (L18) 5Ptas.   \n",
       "1  Volskwagen    Polo             1.6 MSi Trend MT (110cv) (L18) 5Ptas.   \n",
       "2  Volskwagen    Polo       1.6 MSi Comfortline MT (110cv) (L18) 5Ptas.   \n",
       "3  Volskwagen  Amarok     2.0 TDI (180cv) 4x2 C/Doble Comfortline (L17)   \n",
       "4  Volskwagen  Amarok     2.0 TDI (180cv) 4x4 C/Doble Comfortline (L17)   \n",
       "5  Volskwagen    Taos              Comfortline 250TSI Tiptronic (150cv)   \n",
       "\n",
       "  Moneda         0        -1        -2        -3        -4  \n",
       "0      $  4.322,70  3.439,80  3.221,10  3.007,60  2.799,30  \n",
       "1      $  3.377,50         -         -         -         -  \n",
       "2      $         -  3.439,80  3.221,10  3.007,60  2.799,30  \n",
       "3      $  7.511,30  6.076,90  5.707,60  5.346,90  4.994,80  \n",
       "4      $  8.873,80  7.166,20  6.724,80  6.293,70  5.873,00  \n",
       "5      $  7.421,50  6.306,30         -         -         -  "
      ]
     },
     "execution_count": 14,
     "metadata": {},
     "output_type": "execute_result"
    }
   ],
   "source": [
    "precios = pd.read_csv(path+'DSS - Tablas de datos - Precios_Automatizado.csv')\n",
    "precios"
   ]
  },
  {
   "cell_type": "code",
   "execution_count": null,
   "metadata": {
    "colab": {
     "base_uri": "https://localhost:8080/"
    },
    "id": "NsXireMhUUK-",
    "outputId": "26601425-88a4-49c5-bee5-a1a891a929a7"
   },
   "outputs": [
    {
     "data": {
      "text/plain": [
       "0    4.322,70\n",
       "1    3.377,50\n",
       "2           -\n",
       "3    7.511,30\n",
       "4    8.873,80\n",
       "5    7.421,50\n",
       "Name: 0, dtype: object"
      ]
     },
     "execution_count": 15,
     "metadata": {},
     "output_type": "execute_result"
    }
   ],
   "source": [
    "tablaAnt = {'OKm':4,'1 año':5,'2 años':6}\n",
    "\n",
    "antiguedad = 'OKm'\n",
    "\n",
    "valor = precios.iloc[:,tablaAnt[antiguedad]]\n",
    "\n",
    "valor"
   ]
  },
  {
   "cell_type": "code",
   "execution_count": null,
   "metadata": {
    "colab": {
     "base_uri": "https://localhost:8080/"
    },
    "id": "XrJn5s5Kmu45",
    "outputId": "43ba8ba2-52cd-40b1-b3eb-ac9ebbc87436"
   },
   "outputs": [
    {
     "data": {
      "text/plain": [
       "0    4.322,70\n",
       "Name: 0, dtype: object"
      ]
     },
     "execution_count": 16,
     "metadata": {},
     "output_type": "execute_result"
    }
   ],
   "source": [
    "version = '1.6 MSi Trendline Tiptronic (110cv) (L18) 5Ptas.'\n",
    "valor = precios.iloc[:,tablaAnt[antiguedad]][precios['Versión']==version]\n",
    "valor"
   ]
  },
  {
   "cell_type": "code",
   "execution_count": null,
   "metadata": {
    "id": "z7ri78VkoDy7"
   },
   "outputs": [],
   "source": [
    "def calcula_valor(version, antiguedad):\n",
    "  tablaAnt = {'OKm':4,'1 año':5,'2 años':6,'3 años':7,'4 años':8,'5 años':9}\n",
    "  valor = precios.iloc[:,tablaAnt[antiguedad]][precios['Versión']==version]\n",
    "  return valor"
   ]
  },
  {
   "cell_type": "code",
   "execution_count": null,
   "metadata": {
    "colab": {
     "base_uri": "https://localhost:8080/"
    },
    "id": "dmNjZj9ZpCHG",
    "outputId": "419018cd-cb9c-4935-efa8-56bfcf4714e0"
   },
   "outputs": [
    {
     "data": {
      "text/plain": [
       "0    2.799,30\n",
       "Name: -4, dtype: object"
      ]
     },
     "execution_count": 21,
     "metadata": {},
     "output_type": "execute_result"
    }
   ],
   "source": [
    "valor = calcula_valor('1.6 MSi Trendline Tiptronic (110cv) (L18) 5Ptas.','4 años')\n",
    "valor"
   ]
  },
  {
   "cell_type": "code",
   "execution_count": null,
   "metadata": {
    "id": "LaBFSYWGpO2g"
   },
   "outputs": [],
   "source": [
    "precios.to_sql('precios',my_conn,if_exists='replace',index=False)"
   ]
  }
 ],
 "metadata": {
  "colab": {
   "include_colab_link": true,
   "provenance": []
  },
  "kernelspec": {
   "display_name": "Python 3 (ipykernel)",
   "language": "python",
   "name": "python3"
  },
  "language_info": {
   "codemirror_mode": {
    "name": "ipython",
    "version": 3
   },
   "file_extension": ".py",
   "mimetype": "text/x-python",
   "name": "python",
   "nbconvert_exporter": "python",
   "pygments_lexer": "ipython3",
   "version": "3.9.12"
  }
 },
 "nbformat": 4,
 "nbformat_minor": 4
}
